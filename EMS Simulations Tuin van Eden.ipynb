{
 "cells": [
  {
   "cell_type": "markdown",
   "id": "9d07d14c",
   "metadata": {},
   "source": [
    "# Imports"
   ]
  },
  {
   "cell_type": "code",
   "execution_count": 1,
   "id": "6f07efd3",
   "metadata": {},
   "outputs": [
    {
     "name": "stderr",
     "output_type": "stream",
     "text": [
      "<frozen importlib._bootstrap>:219: RuntimeWarning: scipy._lib.messagestream.MessageStream size changed, may indicate binary incompatibility. Expected 56 from C header, got 64 from PyObject\n"
     ]
    }
   ],
   "source": [
    "import os\n",
    "import requests\n",
    "import json\n",
    "import datetime\n",
    "import pandas as pd\n",
    "import numpy as np\n",
    "import seaborn as sns\n",
    "import matplotlib.pyplot as plt\n",
    "import matplotlib.dates as mdates\n",
    "\n",
    "%matplotlib inline\n",
    "\n",
    "from dataanalyser import DataAnalyser\n",
    "from simulationanalyser import SimulationAnalyser"
   ]
  },
  {
   "cell_type": "markdown",
   "id": "7ded543b",
   "metadata": {},
   "source": [
    "# General\n",
    "\n",
    "**Standaard voor elk project**  \n",
    "- profiel elektriciteitsvraag (indien meer assets dan laadpalen en warmtepomp, dwz voor assets die we niet controleren)\n",
    "- profiel zonne-instraling\n",
    "- profiel elektriciteitsprijs\n",
    "\n",
    "**Bijkomend indien warmte**  \n",
    "- profiel warmtevraag\n",
    "- Indien variabele warmtebronnen: profiel van warmteaanbod\n",
    "- Indien warmtepomp op basis van buffer: profiel van input debiet naar buffer\n",
    "\n",
    "**Bijkomend indien EV**\n",
    "Voor EV load profiles is, als ik het model van Imec goed lees, het volgende nodig:\n",
    "- profiel voor arrival times, duration times and total energy charged van laadsessies (input voor machine learning model van Imec: http://users.atlantis.ugent.be/cdvelder/papers/2020/lahariya2020energies.pdf\n",
    "and https://github.com/mlahariya/EV-SDG)\n",
    "\n",
    "**Projectspecifieke parameters**\n",
    "- parameter range voor batterij (capaciteit, max op/ontlaadvermogen…)\n",
    "- parameter range voor PV installatie (oriëntatie, inclinatie, type zonnepanelen, aantal panelen…)\n",
    "- parameter range voor warmtepomp (capaciteit, compressietrappen, COP-waarden…)\n",
    "- Indien warmtepomp op basis van buffer: parameter range voor buffer ((max/min)volume, max/min debieten…)\n",
    "- Inschatting investeringskost voor assets (bvb battery of PV per kWh...)\n",
    "\n",
    "**Output**  \n",
    "Voor elk gelopen scenario:\n",
    "- CAPEX en OPEX\n",
    "- Percentages eigen verbruik en zelf-voorzienendheid (opgesplitst per energiebron, voor elektriciteit en warmte)\n"
   ]
  },
  {
   "cell_type": "markdown",
   "id": "cd5ab6be",
   "metadata": {},
   "source": [
    "# Description: Tuin van Eden"
   ]
  },
  {
   "cell_type": "markdown",
   "id": "613b5454",
   "metadata": {},
   "source": [
    "Project will be executed in several phases, main question is what investments to make during what phase. First.\n",
    "\n",
    "Assumptions see also [Dropbox](https://www.dropbox.com/work/Circular/006%20Projecten/Tuin%20van%20Eden/Haalbaarheidsscan/EMS?preview=TVE_SimulatieParameters.xlsx):\n",
    "* Battery maximum power: 30 kW (not 50, since the batteries used here are a lot smaller)\n",
    "* Use prices for 2022\n",
    "* Use grid for charging battery only in January, in April and July, use 'current values' control\n",
    "* For assumptions on EV charging profiles, see further)\n",
    "\n",
    "Suggested scenarios, in words:\n",
    "1. Start with max amount of pv possible, small battery and small number of charging station users; in phase two, the number of charging station users increases, but no additional investments are made. The probability of finding a charging station goes down. Same for the third phase.\n",
    "2. Start with max amount of pv possible, medium battery and small number of charging station users; in phase two, additional investments to double PV capacity and increase number of charging stations. #CS users also increases, so equal chance of finding a spot. Same for third phase.\n",
    "3. Start with max amount of pv possible, medium battery and small number of charging station users; in phase two, additional investments to double PV capacity, number of charging stations remains equal. #CS users increases, so lower chance of finding a spot. Same for third phase\n",
    "4. Start with max amount of pv possible, medium battery and small number of charging station users; in phase two, additional investments to double PV capacity, number of charging stations remains equal. #CS users increases, so lower chance of finding a spot. Third phase: PV capacity remains equal, but number of charging stations is increase; #CS users keeps increasing as well."
   ]
  },
  {
   "cell_type": "markdown",
   "id": "032edb4a",
   "metadata": {},
   "source": [
    "Phase 1: \n",
    "* 55 inhabitants\n",
    "* PV: 62.5 kWp, 400 kWp per panel, installation split equally over east, south, west: 52 400 kWp panels in each direction\n",
    "* PV to battery ratios of 1 and 3 were optimal for previous project, so simulate those\n",
    "* Thermal energy demand (and related electricity demand heat pump with COP 4.5) based on simulation tool Jonas\n",
    "* Base load 3 kW\n",
    "* Charging stations: electricity consumption is more based on number of users than number of charging stations, although we can define a probabilty of finding a free charging pole (e.g low number of poles, low probability of finding a pole) in the profile generation tool.\n",
    "\n",
    "\n",
    "Battery storage capacity | Installed solar capacity | #Charging stations | Remarks | Simulated [Jan/Apr/Jul]\n",
    "------------------------------|---------------------|------------|----------|---------\n",
    "20.8 | 62.5 | 26 | Do we want this scenario? Assuming additional PV in future phases, this battery will soon become too small\n",
    "62.5 | 62.5 | 26 | \n",
    "125 | 62.5 | 26 | Add this to then compare if it is worthwhile in the coming phases"
   ]
  },
  {
   "cell_type": "markdown",
   "id": "1d26938f",
   "metadata": {},
   "source": [
    "**Phase 2**\n",
    "* XX inhabitants\n",
    "* \n",
    "\n",
    "Battery storage capacity | Installed solar capacity | #Charging stations | Remarks | Simulated [Jan/Apr/Jul]\n",
    "------------------------------|---------------------|------------|----------|---------\n",
    "62.5 | 125 | 26 | \n",
    "62.5 | 250 | 26 | Is this realistic, i.e. can we have this much solar in phase 2?\n",
    "62.5 | 125 | 85 |\n",
    "62.5 | 250 | 85 | Is this realistic, i.e. can we have this much solar in phase 2?\n",
    "125 | 125 | 26 | \n",
    "125 | 250 | 26 | Is this realistic, i.e. can we have this much solar in phase 2?\n",
    "125 | 125 | 85 |\n",
    "125 | 250 | 85 | Is this realistic, i.e. can we have this much solar in phase 2?"
   ]
  },
  {
   "cell_type": "markdown",
   "id": "0146b319",
   "metadata": {},
   "source": [
    "**Phase 3** \n",
    "\n",
    "\n",
    "Battery storage capacity | Installed solar capacity | Price year | Simulated [Jan/Apr/Jul]\n",
    "------------------------------|---------------------|------------|----------\n",
    "0 | 75 | 2022 | Apr \n",
    "0 | 150 | 2022 | Apr \n",
    "0 | 225 | 2022 | Apr "
   ]
  },
  {
   "cell_type": "markdown",
   "id": "5a9da746",
   "metadata": {},
   "source": [
    "# Generate data"
   ]
  },
  {
   "cell_type": "code",
   "execution_count": 5,
   "id": "3dbb458e",
   "metadata": {},
   "outputs": [],
   "source": [
    "start_time = \"2022-01-01 00:00\"\n",
    "end_time = \"2022-12-31 23:59\""
   ]
  },
  {
   "cell_type": "markdown",
   "id": "224974b2",
   "metadata": {},
   "source": [
    "**Make sure to use files only as long as the simulation, i.e. a month** to limit simulation time"
   ]
  },
  {
   "cell_type": "code",
   "execution_count": 4,
   "id": "a3eb2816",
   "metadata": {},
   "outputs": [],
   "source": [
    "path_to_project = '/Users/chaimdemulder/Documents/DuCoop_OpenMotics/EnerMotics/Projecten/TuinVanEden/'\n",
    "path_to_data_files = os.path.join(path_to_project, '01_jan')\n",
    "# CSV should have comma as a separator and . as a decimal separator!"
   ]
  },
  {
   "cell_type": "markdown",
   "id": "0d3a1209",
   "metadata": {},
   "source": [
    "## Price data"
   ]
  },
  {
   "cell_type": "markdown",
   "id": "4279e7e1",
   "metadata": {},
   "source": [
    "Use 2022 prices (below code is for adjusting 2021 prices)"
   ]
  },
  {
   "cell_type": "code",
   "execution_count": 79,
   "id": "890dd37b",
   "metadata": {},
   "outputs": [],
   "source": [
    "price = pd.read_csv(os.path.join(path_to_project, '2021_Price_1h_europerWh.csv'), index_col='Time', parse_dates=True)\n",
    "price.loc[datetime.datetime(2021, 1, 1):datetime.datetime(2021, 6, 3, 14, 15), 'price'] = \\\n",
    "                price.loc[datetime.datetime(2021, 1, 1):datetime.datetime(2021, 6, 3, 14, 15), 'price'] / 1e6"
   ]
  },
  {
   "cell_type": "code",
   "execution_count": 81,
   "id": "f7c34b49",
   "metadata": {},
   "outputs": [],
   "source": [
    "price.to_csv(os.path.join(path_to_project, '2021_Price_1h.csv'))"
   ]
  },
  {
   "cell_type": "markdown",
   "id": "1a3240bc",
   "metadata": {},
   "source": [
    "## Weather data"
   ]
  },
  {
   "cell_type": "markdown",
   "id": "1e54abb3",
   "metadata": {},
   "source": [
    "Use the generator tool to generate weather data for 2021 based on the tmy file"
   ]
  },
  {
   "cell_type": "markdown",
   "id": "d8cbbe41",
   "metadata": {},
   "source": [
    "## Electricity demand data"
   ]
  },
  {
   "cell_type": "markdown",
   "id": "c0dca423",
   "metadata": {},
   "source": [
    "Only electricity use is heat pump and charging stations; \n",
    "* Heat pump electricity use is assumed from heat profile and COP of 4.5\n",
    "* The charging station profile is generated using [RAMP-mobility](https://github.com/RAMP-project/RAMP-mobility/blob/master/docs/getting_started.md), with the following adjustments from default:\n",
    "    * The **population shares** are 'working': 0, 'student': 0 and 'inactive': 1; this ensures only the active driving windows of the inactive profile (see next point) are used.\n",
    "    * The **driving window** for the inactive profile is adjusted to simulate the main driving activity only in the afternoon, when people return from work, and ignores the morning main driving activity (cars are assumed to be charging elsewhere then)\n",
    "    * Only a part of the total amount of **driven kilometers per day** (standard in RAMP for BE: 50 in the week, 60 in the weekend) is charged at home. Additionally, our assumption is 30 km/d of driving demand, of which half is charged at home. This effectively means adjusting the values for France (taken to be representative for Belgium) in d_tot.csv, in this case reducing them by more than a factor three. Actually used values: 15 km/d for weekdays, 18 km/d for weekends.\n",
    "    * [Not required: Since the power consumption of a car is dependent on it's velocity, calculated as the trip distance divided by the **trip time**, these need to be adjusted downwards as well in the d_min and t_func files, equally with a factor of 50/15 resp 60/18 for the weekend (both equal 3.33).]\n",
    "    * The **nominal power** of the charging station is assumed to be 11 kW\n",
    "    * The **'Uncontrolled' setting** is used to generate the profile\n",
    "    * With 55 charging stations, the **number of actual users** is assumed to be 55 (private charging stations), so a very high chance of always being able to charge (1.0)\n",
    "    * **Temperature data** of the correct year is required, so convert the temperature data in the weather file to csv\n",
    "    \n",
    "    => This whole approach gives a total electricity demand that is a lot lower than expected (e.g., 10 MWh per year for 26 users,  while approx. 26 * 15km/d * 18kWh/100km * 365d/year = 25MWh is expected); so, use 135 users in RAMP to mimic 55 users.\n",
    "* Add a baseload to the profile as well."
   ]
  },
  {
   "cell_type": "code",
   "execution_count": 2,
   "id": "70131488",
   "metadata": {},
   "outputs": [],
   "source": [
    "base_load = 3000"
   ]
  },
  {
   "cell_type": "code",
   "execution_count": 38,
   "id": "43de1035",
   "metadata": {
    "scrolled": true
   },
   "outputs": [],
   "source": [
    "with open('./data/SimulationData/Weather/weather_data_2021_15m.json') as jsonfile:\n",
    "    data = json.load(jsonfile)\n",
    "data = pd.DataFrame(data['temperature'].values(), index=data['temperature'].keys(), columns=['BE'])\n",
    "data.set_index(pd.to_datetime(data.index), inplace=True)\n",
    "data = data.resample('H').mean()\n",
    "data = data.loc[datetime.datetime(2021,1,1):datetime.datetime(2021,12,31,23,59)]\n",
    "data.to_csv('./data/SimulationData/Weather/temperature_data_2021_1h.csv')"
   ]
  },
  {
   "cell_type": "markdown",
   "id": "d06cbd1d",
   "metadata": {},
   "source": [
    "[Run RAMP model]"
   ]
  },
  {
   "cell_type": "code",
   "execution_count": 25,
   "id": "fe22a71e",
   "metadata": {},
   "outputs": [],
   "source": [
    "nr_cars = 135"
   ]
  },
  {
   "cell_type": "code",
   "execution_count": 26,
   "id": "a46a0b27",
   "metadata": {
    "scrolled": true
   },
   "outputs": [],
   "source": [
    "ev_data = pd.read_csv(os.path.join(path_to_project, f'EVdataTuinvanEden_{nr_cars}lp.csv'),\n",
    "                      index_col='Unnamed: 0',\n",
    "                      parse_dates=True)"
   ]
  },
  {
   "cell_type": "code",
   "execution_count": 27,
   "id": "dc3001bb",
   "metadata": {},
   "outputs": [],
   "source": [
    "ev_data = ev_data.reindex(ev_data.index.append(pd.date_range(datetime.datetime(2023,1,1), \n",
    "                                                             datetime.datetime(2023,1,1,23), freq='T',\n",
    "                                                             tz='utc')))"
   ]
  },
  {
   "cell_type": "code",
   "execution_count": 28,
   "id": "055b2375",
   "metadata": {},
   "outputs": [],
   "source": [
    "ev_data = ev_data.resample('H').mean() * 1000"
   ]
  },
  {
   "cell_type": "code",
   "execution_count": 29,
   "id": "cb843820",
   "metadata": {
    "scrolled": false
   },
   "outputs": [],
   "source": [
    "cop = 4.5\n",
    "heat_demand = pd.read_csv(os.path.join(path_to_project, 'HeatDemandTuinvanEden.csv'))\n",
    "heat_demand_data = pd.DataFrame(index=pd.date_range(datetime.datetime.strptime(start_time, '%Y-%m-%d %H:%M'), \n",
    "                                                    datetime.datetime.strptime(end_time, '%Y-%m-%d %H:%M')+datetime.timedelta(days=1), freq='H', tz='utc'),\n",
    "                       data=heat_demand['load'].values,\n",
    "                       columns=['heatdemand_load'])\n",
    "heat_demand_data['heatpump_load'] = heat_demand_data['heatdemand_load'] / cop"
   ]
  },
  {
   "cell_type": "code",
   "execution_count": 30,
   "id": "f6c48ca8",
   "metadata": {},
   "outputs": [],
   "source": [
    "total_load_data = ev_data.join(heat_demand_data)"
   ]
  },
  {
   "cell_type": "code",
   "execution_count": 31,
   "id": "b5bcee92",
   "metadata": {
    "scrolled": true
   },
   "outputs": [],
   "source": [
    "total_load_data['total_load'] = total_load_data['Charging Profile'] + total_load_data['heatpump_load']"
   ]
  },
  {
   "cell_type": "code",
   "execution_count": 32,
   "id": "7b53f70f",
   "metadata": {},
   "outputs": [
    {
     "data": {
      "text/plain": [
       "<Axes: >"
      ]
     },
     "execution_count": 32,
     "metadata": {},
     "output_type": "execute_result"
    },
    {
     "data": {
      "image/png": "[encoded data removed]",
      "text/plain": [
       "<Figure size 640x480 with 1 Axes>"
      ]
     },
     "metadata": {},
     "output_type": "display_data"
    }
   ],
   "source": [
    "total_load_data['total_load'][start_time:end_time].plot()"
   ]
  },
  {
   "cell_type": "code",
   "execution_count": 33,
   "id": "4a365c5e",
   "metadata": {},
   "outputs": [],
   "source": [
    "electricity_load_data_path = os.path.join(path_to_project, f'total_load_data_TuinvanEden_{nr_cars}lp.csv')"
   ]
  },
  {
   "cell_type": "code",
   "execution_count": 34,
   "id": "d2b23db5",
   "metadata": {},
   "outputs": [],
   "source": [
    "total_load_data['total_load'].to_csv(electricity_load_data_path)"
   ]
  },
  {
   "cell_type": "code",
   "execution_count": 6,
   "id": "3cdd39f9",
   "metadata": {},
   "outputs": [],
   "source": [
    "storage_battery = 20800.0\n",
    "installed_pv = 62500.0\n",
    "initial_state_of_charge = 20.0\n",
    "initial_battery_power = 0.0"
   ]
  },
  {
   "cell_type": "code",
   "execution_count": 93,
   "id": "eacc8841",
   "metadata": {},
   "outputs": [],
   "source": [
    "watt_per_panel = 400\n",
    "nr_panels = int(installed_pv/watt_per_panel)\n",
    "nr_panels_per_wind_direction = int(nr_panels/3)"
   ]
  },
  {
   "cell_type": "markdown",
   "id": "d50e5a30",
   "metadata": {},
   "source": [
    "# Analyse"
   ]
  },
  {
   "cell_type": "code",
   "execution_count": 6,
   "id": "7d583673",
   "metadata": {},
   "outputs": [],
   "source": [
    "simulation_name = 'tuinvaneden'\n",
    "path_to_project = '/Users/chaimdemulder/Documents/DuCoop_OpenMotics/EnerMotics/Projecten/TuinVanEden/'\n",
    "path_to_data_files = os.path.join(path_to_project, '01_jan')\n",
    "path_to_results_files = os.path.join(path_to_project, 'SimulationResults')\n",
    "simulations = [{'month': 'jan', 'battery_storage': 62, 'pv': 62, 'lp': 135, 'price': 2022},\n",
    "               {'month': 'feb', 'battery_storage': 62, 'pv': 62, 'lp': 135, 'price': 2022},\n",
    "               {'month': 'mar', 'battery_storage': 62, 'pv': 62, 'lp': 135, 'price': 2022},\n",
    "               {'month': 'apr', 'battery_storage': 62, 'pv': 62, 'lp': 135, 'price': 2022},\n",
    "               {'month': 'may', 'battery_storage': 62, 'pv': 62, 'lp': 135, 'price': 2022},\n",
    "               {'month': 'jun', 'battery_storage': 62, 'pv': 62, 'lp': 135, 'price': 2022},\n",
    "               {'month': 'jul', 'battery_storage': 62, 'pv': 62, 'lp': 135, 'price': 2022},\n",
    "               {'month': 'aug', 'battery_storage': 62, 'pv': 62, 'lp': 135, 'price': 2022},\n",
    "               {'month': 'sep', 'battery_storage': 62, 'pv': 62, 'lp': 135, 'price': 2022},\n",
    "               {'month': 'oct', 'battery_storage': 62, 'pv': 62, 'lp': 135, 'price': 2022},\n",
    "               {'month': 'nov', 'battery_storage': 62, 'pv': 62, 'lp': 135, 'price': 2022},\n",
    "               {'month': 'dec', 'battery_storage': 62, 'pv': 62, 'lp': 135, 'price': 2022}]\n",
    "\n",
    "battery=True\n",
    "heat_pump=False\n",
    "investment_cost_battery = 540 #€/kWh\n",
    "investment_cost_pv = 918.75 #€/kWh\n",
    "investment_cost_other = 20000 #€/kWh\n",
    "opex = 3000.0\n",
    "discounting_time = 15 #year\n",
    "injection_price = 4.3*1e-3"
   ]
  },
  {
   "cell_type": "code",
   "execution_count": 7,
   "id": "bb579776",
   "metadata": {
    "scrolled": false
   },
   "outputs": [
    {
     "name": "stdout",
     "output_type": "stream",
     "text": [
      "Reading and analysing /Users/chaimdemulder/Documents/DuCoop_OpenMotics/EnerMotics/Projecten/TuinVanEden/SimulationResults/tuinvaneden_jan_batt62_pv62_lp135_price2022.csv...\n",
      "Reading and analysing /Users/chaimdemulder/Documents/DuCoop_OpenMotics/EnerMotics/Projecten/TuinVanEden/SimulationResults/tuinvaneden_feb_batt62_pv62_lp135_price2022.csv...\n",
      "Reading and analysing /Users/chaimdemulder/Documents/DuCoop_OpenMotics/EnerMotics/Projecten/TuinVanEden/SimulationResults/tuinvaneden_mar_batt62_pv62_lp135_price2022.csv...\n",
      "Reading and analysing /Users/chaimdemulder/Documents/DuCoop_OpenMotics/EnerMotics/Projecten/TuinVanEden/SimulationResults/tuinvaneden_apr_batt62_pv62_lp135_price2022.csv...\n",
      "Reading and analysing /Users/chaimdemulder/Documents/DuCoop_OpenMotics/EnerMotics/Projecten/TuinVanEden/SimulationResults/tuinvaneden_may_batt62_pv62_lp135_price2022.csv...\n",
      "Reading and analysing /Users/chaimdemulder/Documents/DuCoop_OpenMotics/EnerMotics/Projecten/TuinVanEden/SimulationResults/tuinvaneden_jun_batt62_pv62_lp135_price2022.csv...\n",
      "Reading and analysing /Users/chaimdemulder/Documents/DuCoop_OpenMotics/EnerMotics/Projecten/TuinVanEden/SimulationResults/tuinvaneden_jul_batt62_pv62_lp135_price2022.csv...\n",
      "Reading and analysing /Users/chaimdemulder/Documents/DuCoop_OpenMotics/EnerMotics/Projecten/TuinVanEden/SimulationResults/tuinvaneden_aug_batt62_pv62_lp135_price2022.csv...\n",
      "Reading and analysing /Users/chaimdemulder/Documents/DuCoop_OpenMotics/EnerMotics/Projecten/TuinVanEden/SimulationResults/tuinvaneden_sep_batt62_pv62_lp135_price2022.csv...\n",
      "Reading and analysing /Users/chaimdemulder/Documents/DuCoop_OpenMotics/EnerMotics/Projecten/TuinVanEden/SimulationResults/tuinvaneden_oct_batt62_pv62_lp135_price2022.csv...\n",
      "Reading and analysing /Users/chaimdemulder/Documents/DuCoop_OpenMotics/EnerMotics/Projecten/TuinVanEden/SimulationResults/tuinvaneden_nov_batt62_pv62_lp135_price2022.csv...\n",
      "Reading and analysing /Users/chaimdemulder/Documents/DuCoop_OpenMotics/EnerMotics/Projecten/TuinVanEden/SimulationResults/tuinvaneden_dec_batt62_pv62_lp135_price2022.csv...\n"
     ]
    }
   ],
   "source": [
    "simulation_results = []\n",
    "for sim in simulations:\n",
    "    file = os.path.join(path_to_results_files, \n",
    "                        f\"{simulation_name}_{sim.get('month')}_batt{sim.get('battery_storage')}_pv{sim.get('pv')}_lp{sim.get('lp')}_price{sim.get('price')}.csv\")\n",
    "    print(f\"Reading and analysing {file}...\")\n",
    "    \n",
    "    sim['battery_CAPEX'] = sim.get('battery_storage') * investment_cost_battery\n",
    "    sim['pv_CAPEX'] = sim.get('pv') * investment_cost_pv\n",
    "    sim['total_CAPEX'] = sim['battery_CAPEX'] + sim['pv_CAPEX'] + investment_cost_other\n",
    "    sim['monthly_cost'] = (sim['total_CAPEX'] + opex) / 12 / discounting_time\n",
    "                        \n",
    "    simulationanalyser = SimulationAnalyser(file)\n",
    "    sim['simulationanalyser'] = simulationanalyser\n",
    "    \n",
    "    # Get data in right units, i.e. kWh\n",
    "    w_to_kwh = ['pvinstallation_east_power', 'pvinstallation_south_power', \n",
    "                'pvinstallation_west_power', 'eldemand_total_load']\n",
    "    if heat_pump and sim.get('battery_storage') != 0:\n",
    "        w_to_kwh.append(['electricity demand_heatpump_load', 'heat demand_load', \n",
    "                         'heatpump_electric_power', 'heatpump_thermal_power'])\n",
    "    simulationanalyser.data[w_to_kwh] = simulationanalyser.data[w_to_kwh] / 4000 # W to kWh\n",
    "    simulationanalyser.data['price_price'] = simulationanalyser.data['price_price'] * 1000 # €/Wh to €/kWh\n",
    "    \n",
    "    if battery and sim.get('battery_storage') != 0:\n",
    "        simulationanalyser.data['battery_power'] = simulationanalyser.data['battery_power'].shift(-1)*-1 / 4000.0 # W to kWh\n",
    "    \n",
    "    sim['total pv'] = simulationanalyser.calculate_total_pv(['pvinstallation_east_power',\n",
    "                                                                   'pvinstallation_south_power', \n",
    "                                                                   'pvinstallation_west_power'])\n",
    "    sim['total demand'] = simulationanalyser.calculate_total_demand(['eldemand_total_load',\n",
    "                                                                     'eldemand_heatpump_load'])\n",
    "    sim['selfconsumption pv'] = simulationanalyser.calculate_self_consumption_pv('pv total power',\n",
    "                                                                                 'eldemand total power')\n",
    "    \n",
    "    if battery and sim.get('battery_storage') != 0:\n",
    "        sim['total grid demand'] = simulationanalyser.get_total_grid_consumption('pv total power',\n",
    "                                                                              'eldemand total power', \n",
    "                                                                              'battery_power')\n",
    "        sim['selfconsumption'] = simulationanalyser.calculate_self_consumption('pv total power',\n",
    "                                                                           'battery_power',\n",
    "                                                                           'eldemand total power')\n",
    "        sim['battery storage solar'] = simulationanalyser.get_battery_storage_solar('pv total power',\n",
    "                                                                                    'battery_power',\n",
    "                                                                                    'eldemand total power')\n",
    "        sim['battery storage grid'] = simulationanalyser.get_battery_storage_grid('pv total power',\n",
    "                                                                                  'battery_power',\n",
    "                                                                                  'eldemand total power')\n",
    "        sim['total costs'] = simulationanalyser.get_total_costs('pv total power', \n",
    "                                                                'eldemand total power',\n",
    "                                                                'price_price',\n",
    "                                                                'battery_power')\n",
    "        sim['total costs no ems'] = sum(simulationanalyser.data['demand costs no ems'])\n",
    "        sim['total costs battery charging'] = sum(simulationanalyser.data['battery charging costs'])\n",
    "        sim['total savings'] = simulationanalyser.get_total_savings('pv total power', \n",
    "                                                                    'eldemand total power',\n",
    "                                                                    'price_price', \n",
    "                                                                    'battery_power') \n",
    "        sim['total savings battery discharging'] = sum(simulationanalyser.data['avoided costs battery'])\n",
    "        sim['injected'] = simulationanalyser.get_injection('pv total power', \n",
    "                                                           'eldemand total power', \n",
    "                                                           'battery_state_of_charge')\n",
    "        sim['injected profit'] = simulationanalyser.get_injection('pv total power', \n",
    "                                                                  'eldemand total power', \n",
    "                                                                  'battery_state_of_charge',\n",
    "                                                                  'price_price')\n",
    "    else:\n",
    "        sim['total grid demand'] = simulationanalyser.get_total_grid_consumption('pv total power',\n",
    "                                                                              'eldemand total power')\n",
    "        sim['selfconsumption'] = sim['selfconsumption pv']\n",
    "        sim['total costs'] = simulationanalyser.get_total_costs('pv total power', \n",
    "                                                                'eldemand total power',\n",
    "                                                                'price_price')\n",
    "        sim['total costs no ems'] = sum(simulationanalyser.data['demand costs no ems'])\n",
    "        sim['total savings'] = simulationanalyser.get_total_savings('pv total power', \n",
    "                                                                    'eldemand total power',\n",
    "                                                                    'price_price') \n",
    "        sim['injected'] = simulationanalyser.get_injection('pv total power', \n",
    "                                                           'eldemand total power')\n",
    "        sim['injected profit'] = simulationanalyser.get_injection('pv total power', \n",
    "                                                                  'eldemand total power', \n",
    "                                                                  'price_price')\n",
    "    sim['peak grid demand'] = max(simulationanalyser.data['total grid demand']) * 4  # kWh to kW\n",
    "    sim['peak grid demand no ems'] = max(simulationanalyser.data['eldemand total power']) * 4  # kWh to kW\n",
    "    simulation_results.append(sim)"
   ]
  },
  {
   "cell_type": "code",
   "execution_count": 8,
   "id": "7605b747",
   "metadata": {},
   "outputs": [
    {
     "data": {
      "text/plain": [
       "Index(['timestamp', 'temperature', 'total_horizontal_irradiation',\n",
       "       'diffuse_horizontal_irradiation', 'actions_heatpump_operation_modus',\n",
       "       'actions_heatpump_compression_states', 'actions_heatpump_temp_setpoint',\n",
       "       'actions_heatpump_flow_setpoint', 'actions_battery_system_status',\n",
       "       'actions_battery_real_power', 'actions_battery_reactive_power',\n",
       "       'actions_battery_reason', 'actions_chargingstation_totalpower',\n",
       "       'actions_reset_heatpump_timer', 'actions_distr_heat_temp_sp',\n",
       "       'costs_discounted_cost_calculated', 'costs_pv', 'costs_battery',\n",
       "       'costs_base_cs', 'costs_grid_cs', 'costs_cs_cost_calculated',\n",
       "       'costs_base_el', 'costs_grid_el', 'costs_grid_only_solar',\n",
       "       'costs_el_cost_calculated', 'costs_savings_calculated',\n",
       "       'costs_el_savings', 'costs_cs_savings', 'costs_el_savings_wout_battery',\n",
       "       'costs_heat_cost_calculated', 'battery_state_of_charge',\n",
       "       'battery_battery_status', 'battery_battery_operating_status',\n",
       "       'battery_system_status', 'battery_power', 'pvinstallation_south_power',\n",
       "       'pvinstallation_west_power', 'pvinstallation_east_power',\n",
       "       'eldemand_total_load', 'eldemand_heatpump_load', 'price_price',\n",
       "       'pv total power', 'eldemand total power', 'selfconsumption pv',\n",
       "       'grid demand', 'battery charging demand', 'total grid demand',\n",
       "       'selfconsumption', 'battery stored solar', 'battery stored grid',\n",
       "       'demand costs no ems', 'demand costs', 'battery charging costs',\n",
       "       'total costs', 'avoided costs pv', 'avoided costs battery',\n",
       "       'total avoided costs', 'injected', 'injected profit'],\n",
       "      dtype='object')"
      ]
     },
     "execution_count": 8,
     "metadata": {},
     "output_type": "execute_result"
    }
   ],
   "source": [
    "simulationanalyser.data.columns"
   ]
  },
  {
   "cell_type": "code",
   "execution_count": 9,
   "id": "c2774b7a",
   "metadata": {},
   "outputs": [
    {
     "name": "stderr",
     "output_type": "stream",
     "text": [
      "No artists with labels found to put in legend.  Note that artists whose label start with an underscore are ignored when legend() is called with no argument.\n"
     ]
    },
    {
     "data": {
      "text/plain": [
       "<matplotlib.legend.Legend at 0x7fb0d8451a60>"
      ]
     },
     "execution_count": 9,
     "metadata": {},
     "output_type": "execute_result"
    },
    {
     "data": {
      "image/png": "[encoded data removed]",
      "text/plain": [
       "<Figure size 1500x500 with 2 Axes>"
      ]
     },
     "metadata": {},
     "output_type": "display_data"
    }
   ],
   "source": [
    "fig, ax = plt.subplots(figsize=(15,5))\n",
    "ax.plot(simulationanalyser.data['eldemand total power'])\n",
    "ax.plot(simulationanalyser.data['pv total power'])\n",
    "ax.plot(simulationanalyser.data['battery_power'])\n",
    "\n",
    "ax2 = ax.twinx()\n",
    "ax2.plot(simulationanalyser.data['battery_state_of_charge'])\n",
    "#ax2.plot(simulationanalyser.data['price_price'], 'r')\n",
    "ax.set_xlim(datetime.datetime(2022,7,1), datetime.datetime(2022,7,5))\n",
    "fig.legend()"
   ]
  },
  {
   "cell_type": "code",
   "execution_count": 40,
   "id": "bdd22917",
   "metadata": {},
   "outputs": [
    {
     "data": {
      "text/plain": [
       "113.46791566563665"
      ]
     },
     "execution_count": 40,
     "metadata": {},
     "output_type": "execute_result"
    }
   ],
   "source": [
    "sum(simulationanalyser.data['total grid demand'])"
   ]
  },
  {
   "cell_type": "code",
   "execution_count": 10,
   "id": "6b68ed47",
   "metadata": {},
   "outputs": [],
   "source": [
    "results_df = pd.DataFrame(simulation_results)"
   ]
  },
  {
   "cell_type": "code",
   "execution_count": 11,
   "id": "e29067b2",
   "metadata": {},
   "outputs": [
    {
     "data": {
      "text/html": [
       "<div>\n",
       "<style scoped>\n",
       "    .dataframe tbody tr th:only-of-type {\n",
       "        vertical-align: middle;\n",
       "    }\n",
       "\n",
       "    .dataframe tbody tr th {\n",
       "        vertical-align: top;\n",
       "    }\n",
       "\n",
       "    .dataframe thead th {\n",
       "        text-align: right;\n",
       "    }\n",
       "</style>\n",
       "<table border=\"1\" class=\"dataframe\">\n",
       "  <thead>\n",
       "    <tr style=\"text-align: right;\">\n",
       "      <th></th>\n",
       "      <th>month</th>\n",
       "      <th>battery_storage</th>\n",
       "      <th>pv</th>\n",
       "      <th>lp</th>\n",
       "      <th>price</th>\n",
       "      <th>battery_CAPEX</th>\n",
       "      <th>pv_CAPEX</th>\n",
       "      <th>total_CAPEX</th>\n",
       "      <th>monthly_cost</th>\n",
       "      <th>simulationanalyser</th>\n",
       "      <th>...</th>\n",
       "      <th>battery storage grid</th>\n",
       "      <th>total costs</th>\n",
       "      <th>total costs no ems</th>\n",
       "      <th>total costs battery charging</th>\n",
       "      <th>total savings</th>\n",
       "      <th>total savings battery discharging</th>\n",
       "      <th>injected</th>\n",
       "      <th>injected profit</th>\n",
       "      <th>peak grid demand</th>\n",
       "      <th>peak grid demand no ems</th>\n",
       "    </tr>\n",
       "  </thead>\n",
       "  <tbody>\n",
       "    <tr>\n",
       "      <th>0</th>\n",
       "      <td>jan</td>\n",
       "      <td>62</td>\n",
       "      <td>62</td>\n",
       "      <td>135</td>\n",
       "      <td>2022</td>\n",
       "      <td>33480</td>\n",
       "      <td>56962.5</td>\n",
       "      <td>110442.5</td>\n",
       "      <td>630.236111</td>\n",
       "      <td>&lt;simulationanalyser.SimulationAnalyser object ...</td>\n",
       "      <td>...</td>\n",
       "      <td>2.593965e+03</td>\n",
       "      <td>1843.974005</td>\n",
       "      <td>2228.624107</td>\n",
       "      <td>3.855065e+02</td>\n",
       "      <td>770.044235</td>\n",
       "      <td>558.373696</td>\n",
       "      <td>9.315764</td>\n",
       "      <td>1.619816</td>\n",
       "      <td>73.028424</td>\n",
       "      <td>47.846092</td>\n",
       "    </tr>\n",
       "    <tr>\n",
       "      <th>1</th>\n",
       "      <td>feb</td>\n",
       "      <td>62</td>\n",
       "      <td>62</td>\n",
       "      <td>135</td>\n",
       "      <td>2022</td>\n",
       "      <td>33480</td>\n",
       "      <td>56962.5</td>\n",
       "      <td>110442.5</td>\n",
       "      <td>630.236111</td>\n",
       "      <td>&lt;simulationanalyser.SimulationAnalyser object ...</td>\n",
       "      <td>...</td>\n",
       "      <td>2.585091e+03</td>\n",
       "      <td>1174.823576</td>\n",
       "      <td>1563.493788</td>\n",
       "      <td>3.327599e+02</td>\n",
       "      <td>721.405671</td>\n",
       "      <td>488.138195</td>\n",
       "      <td>139.098978</td>\n",
       "      <td>19.203999</td>\n",
       "      <td>57.166693</td>\n",
       "      <td>46.368670</td>\n",
       "    </tr>\n",
       "    <tr>\n",
       "      <th>2</th>\n",
       "      <td>mar</td>\n",
       "      <td>62</td>\n",
       "      <td>62</td>\n",
       "      <td>135</td>\n",
       "      <td>2022</td>\n",
       "      <td>33480</td>\n",
       "      <td>56962.5</td>\n",
       "      <td>110442.5</td>\n",
       "      <td>630.236111</td>\n",
       "      <td>&lt;simulationanalyser.SimulationAnalyser object ...</td>\n",
       "      <td>...</td>\n",
       "      <td>2.056938e+03</td>\n",
       "      <td>1262.266623</td>\n",
       "      <td>2039.725857</td>\n",
       "      <td>4.213521e+02</td>\n",
       "      <td>1198.552080</td>\n",
       "      <td>648.956237</td>\n",
       "      <td>1004.587951</td>\n",
       "      <td>184.761561</td>\n",
       "      <td>48.832951</td>\n",
       "      <td>42.869829</td>\n",
       "    </tr>\n",
       "    <tr>\n",
       "      <th>3</th>\n",
       "      <td>apr</td>\n",
       "      <td>62</td>\n",
       "      <td>62</td>\n",
       "      <td>135</td>\n",
       "      <td>2022</td>\n",
       "      <td>33480</td>\n",
       "      <td>56962.5</td>\n",
       "      <td>110442.5</td>\n",
       "      <td>630.236111</td>\n",
       "      <td>&lt;simulationanalyser.SimulationAnalyser object ...</td>\n",
       "      <td>...</td>\n",
       "      <td>1.283244e-13</td>\n",
       "      <td>151.315437</td>\n",
       "      <td>977.846463</td>\n",
       "      <td>2.076254e-14</td>\n",
       "      <td>826.206900</td>\n",
       "      <td>306.693801</td>\n",
       "      <td>1051.893123</td>\n",
       "      <td>166.317600</td>\n",
       "      <td>24.445464</td>\n",
       "      <td>32.014527</td>\n",
       "    </tr>\n",
       "    <tr>\n",
       "      <th>4</th>\n",
       "      <td>may</td>\n",
       "      <td>62</td>\n",
       "      <td>62</td>\n",
       "      <td>135</td>\n",
       "      <td>2022</td>\n",
       "      <td>33480</td>\n",
       "      <td>56962.5</td>\n",
       "      <td>110442.5</td>\n",
       "      <td>630.236111</td>\n",
       "      <td>&lt;simulationanalyser.SimulationAnalyser object ...</td>\n",
       "      <td>...</td>\n",
       "      <td>1.061308e-13</td>\n",
       "      <td>111.305778</td>\n",
       "      <td>799.508513</td>\n",
       "      <td>1.764220e-14</td>\n",
       "      <td>688.080704</td>\n",
       "      <td>253.722693</td>\n",
       "      <td>1937.492460</td>\n",
       "      <td>246.676365</td>\n",
       "      <td>27.528445</td>\n",
       "      <td>36.981144</td>\n",
       "    </tr>\n",
       "    <tr>\n",
       "      <th>5</th>\n",
       "      <td>jun</td>\n",
       "      <td>62</td>\n",
       "      <td>62</td>\n",
       "      <td>135</td>\n",
       "      <td>2022</td>\n",
       "      <td>33480</td>\n",
       "      <td>56962.5</td>\n",
       "      <td>110442.5</td>\n",
       "      <td>630.236111</td>\n",
       "      <td>&lt;simulationanalyser.SimulationAnalyser object ...</td>\n",
       "      <td>...</td>\n",
       "      <td>1.066525e-13</td>\n",
       "      <td>104.191806</td>\n",
       "      <td>1013.345896</td>\n",
       "      <td>2.161597e-14</td>\n",
       "      <td>909.129738</td>\n",
       "      <td>311.518985</td>\n",
       "      <td>1299.916153</td>\n",
       "      <td>252.351499</td>\n",
       "      <td>23.270482</td>\n",
       "      <td>31.518024</td>\n",
       "    </tr>\n",
       "    <tr>\n",
       "      <th>6</th>\n",
       "      <td>jul</td>\n",
       "      <td>62</td>\n",
       "      <td>62</td>\n",
       "      <td>135</td>\n",
       "      <td>2022</td>\n",
       "      <td>33480</td>\n",
       "      <td>56962.5</td>\n",
       "      <td>110442.5</td>\n",
       "      <td>630.236111</td>\n",
       "      <td>&lt;simulationanalyser.SimulationAnalyser object ...</td>\n",
       "      <td>...</td>\n",
       "      <td>1.372548e-13</td>\n",
       "      <td>107.562841</td>\n",
       "      <td>1493.826782</td>\n",
       "      <td>3.994358e-14</td>\n",
       "      <td>1386.232689</td>\n",
       "      <td>473.431456</td>\n",
       "      <td>1496.334806</td>\n",
       "      <td>378.083448</td>\n",
       "      <td>22.283837</td>\n",
       "      <td>34.367682</td>\n",
       "    </tr>\n",
       "    <tr>\n",
       "      <th>7</th>\n",
       "      <td>aug</td>\n",
       "      <td>62</td>\n",
       "      <td>62</td>\n",
       "      <td>135</td>\n",
       "      <td>2022</td>\n",
       "      <td>33480</td>\n",
       "      <td>56962.5</td>\n",
       "      <td>110442.5</td>\n",
       "      <td>630.236111</td>\n",
       "      <td>&lt;simulationanalyser.SimulationAnalyser object ...</td>\n",
       "      <td>...</td>\n",
       "      <td>1.119799e-13</td>\n",
       "      <td>207.421637</td>\n",
       "      <td>2165.704785</td>\n",
       "      <td>4.732364e-14</td>\n",
       "      <td>1957.864631</td>\n",
       "      <td>669.932923</td>\n",
       "      <td>1505.279068</td>\n",
       "      <td>563.667092</td>\n",
       "      <td>14.460590</td>\n",
       "      <td>37.417478</td>\n",
       "    </tr>\n",
       "    <tr>\n",
       "      <th>8</th>\n",
       "      <td>sep</td>\n",
       "      <td>62</td>\n",
       "      <td>62</td>\n",
       "      <td>135</td>\n",
       "      <td>2022</td>\n",
       "      <td>33480</td>\n",
       "      <td>56962.5</td>\n",
       "      <td>110442.5</td>\n",
       "      <td>630.236111</td>\n",
       "      <td>&lt;simulationanalyser.SimulationAnalyser object ...</td>\n",
       "      <td>...</td>\n",
       "      <td>1.079727e-13</td>\n",
       "      <td>463.385598</td>\n",
       "      <td>1623.068493</td>\n",
       "      <td>3.829780e-14</td>\n",
       "      <td>1159.601026</td>\n",
       "      <td>439.902331</td>\n",
       "      <td>445.897320</td>\n",
       "      <td>146.447201</td>\n",
       "      <td>29.083115</td>\n",
       "      <td>34.217562</td>\n",
       "    </tr>\n",
       "    <tr>\n",
       "      <th>9</th>\n",
       "      <td>oct</td>\n",
       "      <td>62</td>\n",
       "      <td>62</td>\n",
       "      <td>135</td>\n",
       "      <td>2022</td>\n",
       "      <td>33480</td>\n",
       "      <td>56962.5</td>\n",
       "      <td>110442.5</td>\n",
       "      <td>630.236111</td>\n",
       "      <td>&lt;simulationanalyser.SimulationAnalyser object ...</td>\n",
       "      <td>...</td>\n",
       "      <td>1.732081e+03</td>\n",
       "      <td>540.453089</td>\n",
       "      <td>954.126943</td>\n",
       "      <td>2.025742e+02</td>\n",
       "      <td>616.239242</td>\n",
       "      <td>335.426079</td>\n",
       "      <td>778.074893</td>\n",
       "      <td>124.541656</td>\n",
       "      <td>52.765235</td>\n",
       "      <td>37.148711</td>\n",
       "    </tr>\n",
       "    <tr>\n",
       "      <th>10</th>\n",
       "      <td>nov</td>\n",
       "      <td>62</td>\n",
       "      <td>62</td>\n",
       "      <td>135</td>\n",
       "      <td>2022</td>\n",
       "      <td>33480</td>\n",
       "      <td>56962.5</td>\n",
       "      <td>110442.5</td>\n",
       "      <td>630.236111</td>\n",
       "      <td>&lt;simulationanalyser.SimulationAnalyser object ...</td>\n",
       "      <td>...</td>\n",
       "      <td>1.935503e+03</td>\n",
       "      <td>1334.241913</td>\n",
       "      <td>1796.989165</td>\n",
       "      <td>2.476791e+02</td>\n",
       "      <td>709.163133</td>\n",
       "      <td>441.251549</td>\n",
       "      <td>227.866619</td>\n",
       "      <td>28.404312</td>\n",
       "      <td>52.797047</td>\n",
       "      <td>43.259038</td>\n",
       "    </tr>\n",
       "    <tr>\n",
       "      <th>11</th>\n",
       "      <td>dec</td>\n",
       "      <td>62</td>\n",
       "      <td>62</td>\n",
       "      <td>135</td>\n",
       "      <td>2022</td>\n",
       "      <td>33480</td>\n",
       "      <td>56962.5</td>\n",
       "      <td>110442.5</td>\n",
       "      <td>630.236111</td>\n",
       "      <td>&lt;simulationanalyser.SimulationAnalyser object ...</td>\n",
       "      <td>...</td>\n",
       "      <td>1.971239e+03</td>\n",
       "      <td>2620.283192</td>\n",
       "      <td>3157.459596</td>\n",
       "      <td>3.703092e+02</td>\n",
       "      <td>907.363535</td>\n",
       "      <td>565.871543</td>\n",
       "      <td>23.654520</td>\n",
       "      <td>5.819952</td>\n",
       "      <td>64.369712</td>\n",
       "      <td>44.550128</td>\n",
       "    </tr>\n",
       "  </tbody>\n",
       "</table>\n",
       "<p>12 rows × 26 columns</p>\n",
       "</div>"
      ],
      "text/plain": [
       "   month  battery_storage  pv   lp  price  battery_CAPEX  pv_CAPEX  \\\n",
       "0    jan               62  62  135   2022          33480   56962.5   \n",
       "1    feb               62  62  135   2022          33480   56962.5   \n",
       "2    mar               62  62  135   2022          33480   56962.5   \n",
       "3    apr               62  62  135   2022          33480   56962.5   \n",
       "4    may               62  62  135   2022          33480   56962.5   \n",
       "5    jun               62  62  135   2022          33480   56962.5   \n",
       "6    jul               62  62  135   2022          33480   56962.5   \n",
       "7    aug               62  62  135   2022          33480   56962.5   \n",
       "8    sep               62  62  135   2022          33480   56962.5   \n",
       "9    oct               62  62  135   2022          33480   56962.5   \n",
       "10   nov               62  62  135   2022          33480   56962.5   \n",
       "11   dec               62  62  135   2022          33480   56962.5   \n",
       "\n",
       "    total_CAPEX  monthly_cost  \\\n",
       "0      110442.5    630.236111   \n",
       "1      110442.5    630.236111   \n",
       "2      110442.5    630.236111   \n",
       "3      110442.5    630.236111   \n",
       "4      110442.5    630.236111   \n",
       "5      110442.5    630.236111   \n",
       "6      110442.5    630.236111   \n",
       "7      110442.5    630.236111   \n",
       "8      110442.5    630.236111   \n",
       "9      110442.5    630.236111   \n",
       "10     110442.5    630.236111   \n",
       "11     110442.5    630.236111   \n",
       "\n",
       "                                   simulationanalyser  ...  \\\n",
       "0   <simulationanalyser.SimulationAnalyser object ...  ...   \n",
       "1   <simulationanalyser.SimulationAnalyser object ...  ...   \n",
       "2   <simulationanalyser.SimulationAnalyser object ...  ...   \n",
       "3   <simulationanalyser.SimulationAnalyser object ...  ...   \n",
       "4   <simulationanalyser.SimulationAnalyser object ...  ...   \n",
       "5   <simulationanalyser.SimulationAnalyser object ...  ...   \n",
       "6   <simulationanalyser.SimulationAnalyser object ...  ...   \n",
       "7   <simulationanalyser.SimulationAnalyser object ...  ...   \n",
       "8   <simulationanalyser.SimulationAnalyser object ...  ...   \n",
       "9   <simulationanalyser.SimulationAnalyser object ...  ...   \n",
       "10  <simulationanalyser.SimulationAnalyser object ...  ...   \n",
       "11  <simulationanalyser.SimulationAnalyser object ...  ...   \n",
       "\n",
       "    battery storage grid  total costs  total costs no ems  \\\n",
       "0           2.593965e+03  1843.974005         2228.624107   \n",
       "1           2.585091e+03  1174.823576         1563.493788   \n",
       "2           2.056938e+03  1262.266623         2039.725857   \n",
       "3           1.283244e-13   151.315437          977.846463   \n",
       "4           1.061308e-13   111.305778          799.508513   \n",
       "5           1.066525e-13   104.191806         1013.345896   \n",
       "6           1.372548e-13   107.562841         1493.826782   \n",
       "7           1.119799e-13   207.421637         2165.704785   \n",
       "8           1.079727e-13   463.385598         1623.068493   \n",
       "9           1.732081e+03   540.453089          954.126943   \n",
       "10          1.935503e+03  1334.241913         1796.989165   \n",
       "11          1.971239e+03  2620.283192         3157.459596   \n",
       "\n",
       "    total costs battery charging  total savings  \\\n",
       "0                   3.855065e+02     770.044235   \n",
       "1                   3.327599e+02     721.405671   \n",
       "2                   4.213521e+02    1198.552080   \n",
       "3                   2.076254e-14     826.206900   \n",
       "4                   1.764220e-14     688.080704   \n",
       "5                   2.161597e-14     909.129738   \n",
       "6                   3.994358e-14    1386.232689   \n",
       "7                   4.732364e-14    1957.864631   \n",
       "8                   3.829780e-14    1159.601026   \n",
       "9                   2.025742e+02     616.239242   \n",
       "10                  2.476791e+02     709.163133   \n",
       "11                  3.703092e+02     907.363535   \n",
       "\n",
       "    total savings battery discharging     injected  injected profit  \\\n",
       "0                          558.373696     9.315764         1.619816   \n",
       "1                          488.138195   139.098978        19.203999   \n",
       "2                          648.956237  1004.587951       184.761561   \n",
       "3                          306.693801  1051.893123       166.317600   \n",
       "4                          253.722693  1937.492460       246.676365   \n",
       "5                          311.518985  1299.916153       252.351499   \n",
       "6                          473.431456  1496.334806       378.083448   \n",
       "7                          669.932923  1505.279068       563.667092   \n",
       "8                          439.902331   445.897320       146.447201   \n",
       "9                          335.426079   778.074893       124.541656   \n",
       "10                         441.251549   227.866619        28.404312   \n",
       "11                         565.871543    23.654520         5.819952   \n",
       "\n",
       "    peak grid demand  peak grid demand no ems  \n",
       "0          73.028424                47.846092  \n",
       "1          57.166693                46.368670  \n",
       "2          48.832951                42.869829  \n",
       "3          24.445464                32.014527  \n",
       "4          27.528445                36.981144  \n",
       "5          23.270482                31.518024  \n",
       "6          22.283837                34.367682  \n",
       "7          14.460590                37.417478  \n",
       "8          29.083115                34.217562  \n",
       "9          52.765235                37.148711  \n",
       "10         52.797047                43.259038  \n",
       "11         64.369712                44.550128  \n",
       "\n",
       "[12 rows x 26 columns]"
      ]
     },
     "execution_count": 11,
     "metadata": {},
     "output_type": "execute_result"
    }
   ],
   "source": [
    "results_df"
   ]
  },
  {
   "cell_type": "code",
   "execution_count": 12,
   "id": "8c9a0301",
   "metadata": {},
   "outputs": [],
   "source": [
    "pd.DataFrame(simulation_results).to_csv('./TuinVanEden_simulation_results_135lp_year.csv')"
   ]
  },
  {
   "cell_type": "code",
   "execution_count": 44,
   "id": "16100d5c",
   "metadata": {},
   "outputs": [],
   "source": [
    "lp26_second_attempt = pd.read_csv('/Users/chaimdemulder/Documents/DuCoop_OpenMotics/EnerMotics/Projecten/TuinvanEden/EVdataTuinvanEden_26lp_second_attempt.csv')\n",
    "#lp26 = pd.read_csv('/Users/chaimdemulder/Documents/DuCoop_OpenMotics/EnerMotics/Projecten/TuinvanEden/EVdataTuinvanEden_26lp.csv')\n",
    "#lp55 = pd.read_csv('/Users/chaimdemulder/Documents/DuCoop_OpenMotics/EnerMotics/Projecten/TuinvanEden/EVdataTuinvanEden_55lp.csv')\n",
    "#lp85 = pd.read_csv('/Users/chaimdemulder/Documents/DuCoop_OpenMotics/EnerMotics/Projecten/TuinvanEden/EVdataTuinvanEden_85lp.csv')\n",
    "lp135 = pd.read_csv('/Users/chaimdemulder/Documents/DuCoop_OpenMotics/EnerMotics/Projecten/TuinvanEden/EVdataTuinvanEden_135lp.csv')\n",
    "#lp190 = pd.read_csv('/Users/chaimdemulder/Documents/DuCoop_OpenMotics/EnerMotics/Projecten/TuinvanEden/EVdataTuinvanEden_190lp.csv')"
   ]
  },
  {
   "cell_type": "code",
   "execution_count": 45,
   "id": "32fee00e",
   "metadata": {},
   "outputs": [
    {
     "data": {
      "text/plain": [
       "52809.66045210981"
      ]
     },
     "execution_count": 45,
     "metadata": {},
     "output_type": "execute_result"
    }
   ],
   "source": [
    "sum(lp135['Charging Profile']) / 60"
   ]
  },
  {
   "cell_type": "code",
   "execution_count": 18,
   "id": "87fc9ca5",
   "metadata": {},
   "outputs": [
    {
     "data": {
      "text/plain": [
       "[<matplotlib.lines.Line2D at 0x7fb3adb2b0a0>]"
      ]
     },
     "execution_count": 18,
     "metadata": {},
     "output_type": "execute_result"
    },
    {
     "data": {
      "image/png": "[encoded data removed]",
      "text/plain": [
       "<Figure size 640x480 with 1 Axes>"
      ]
     },
     "metadata": {},
     "output_type": "display_data"
    }
   ],
   "source": [
    "fig, ax = plt.subplots()\n",
    "ax.plot(lp120['Charging Profile'])\n",
    "#ax.plot(lp85['Charging Profile'])\n",
    "#ax.plot(lp55['Charging Profile'])\n",
    "#ax.plot(lp26['Charging Profile'])\n",
    "#ax.plot(lp26_second_attempt['Charging Profile'])"
   ]
  },
  {
   "cell_type": "markdown",
   "id": "65893df0",
   "metadata": {},
   "source": [
    "## Single file"
   ]
  },
  {
   "cell_type": "code",
   "execution_count": 8,
   "id": "7b5bf074",
   "metadata": {},
   "outputs": [],
   "source": [
    "filename_2021 = f\"{simulation_name}_apr_batt125_pv62_lp26_price2021.csv\"\n",
    "filename_2022 = f\"{simulation_name}_apr_batt125_pv62_lp55_price2022.csv\""
   ]
  },
  {
   "cell_type": "code",
   "execution_count": 9,
   "id": "0e467b3b",
   "metadata": {},
   "outputs": [],
   "source": [
    "results_2021 = pd.read_csv(os.path.join(path_to_results_files, filename_2021), \n",
    "                      index_col='Unnamed: 0', parse_dates=True)\n",
    "results_2022 = pd.read_csv(os.path.join(path_to_results_files, filename_2022), \n",
    "                      index_col='Unnamed: 0', parse_dates=True)"
   ]
  },
  {
   "cell_type": "code",
   "execution_count": 6,
   "id": "b1a569e3",
   "metadata": {
    "scrolled": false
   },
   "outputs": [],
   "source": [
    "#results[datetime.datetime(2022,4,20):datetime.datetime(2022,4,20,12)]"
   ]
  },
  {
   "cell_type": "code",
   "execution_count": 10,
   "id": "bef83554",
   "metadata": {},
   "outputs": [
    {
     "data": {
      "text/plain": [
       "Index(['timestamp', 'temperature', 'total_horizontal_irradiation',\n",
       "       'diffuse_horizontal_irradiation', 'actions_heatpump_operation_modus',\n",
       "       'actions_heatpump_compression_states', 'actions_heatpump_temp_setpoint',\n",
       "       'actions_heatpump_flow_setpoint', 'actions_battery_system_status',\n",
       "       'actions_battery_real_power', 'actions_battery_reactive_power',\n",
       "       'actions_battery_reason', 'actions_chargingstation_totalpower',\n",
       "       'actions_reset_heatpump_timer', 'actions_distr_heat_temp_sp',\n",
       "       'costs_base_cs', 'costs_grid_cs', 'costs_cs_cost_calculated',\n",
       "       'costs_base_el', 'costs_grid_el', 'costs_grid_only_solar',\n",
       "       'costs_el_cost_calculated', 'costs_discounted_cost_calculated',\n",
       "       'costs_pv', 'costs_battery', 'costs_savings_calculated',\n",
       "       'costs_el_savings', 'costs_cs_savings', 'costs_el_savings_wout_battery',\n",
       "       'costs_heat_cost_calculated', 'battery_state_of_charge',\n",
       "       'battery_battery_status', 'battery_battery_operating_status',\n",
       "       'battery_system_status', 'battery_power', 'pvinstallation_south_power',\n",
       "       'pvinstallation_west_power', 'pvinstallation_east_power',\n",
       "       'eldemand_total_load', 'eldemand_heatpump_load', 'price_price'],\n",
       "      dtype='object')"
      ]
     },
     "execution_count": 10,
     "metadata": {},
     "output_type": "execute_result"
    }
   ],
   "source": [
    "results_2021.columns"
   ]
  },
  {
   "cell_type": "code",
   "execution_count": 105,
   "id": "44679195",
   "metadata": {},
   "outputs": [
    {
     "ename": "NameError",
     "evalue": "name 'results_2022' is not defined",
     "output_type": "error",
     "traceback": [
      "\u001b[0;31m---------------------------------------------------------------------------\u001b[0m",
      "\u001b[0;31mNameError\u001b[0m                                 Traceback (most recent call last)",
      "Cell \u001b[0;32mIn[105], line 4\u001b[0m\n\u001b[1;32m      1\u001b[0m fig, ax \u001b[38;5;241m=\u001b[39m plt\u001b[38;5;241m.\u001b[39msubplots(figsize\u001b[38;5;241m=\u001b[39m(\u001b[38;5;241m15\u001b[39m,\u001b[38;5;241m5\u001b[39m))\n\u001b[1;32m      2\u001b[0m \u001b[38;5;66;03m#ax.plot(results_2021['eldemand_total_load'], label='2021')\u001b[39;00m\n\u001b[1;32m      3\u001b[0m \u001b[38;5;66;03m#ax.plot(results_2022['eldemand_total_load'], label='2022')\u001b[39;00m\n\u001b[0;32m----> 4\u001b[0m ax\u001b[38;5;241m.\u001b[39mplot(\u001b[43mresults_2022\u001b[49m[\u001b[38;5;124m'\u001b[39m\u001b[38;5;124mpvinstallation_south_power\u001b[39m\u001b[38;5;124m'\u001b[39m], label\u001b[38;5;241m=\u001b[39m\u001b[38;5;124m'\u001b[39m\u001b[38;5;124mpv south\u001b[39m\u001b[38;5;124m'\u001b[39m)\n\u001b[1;32m      5\u001b[0m ax2\u001b[38;5;241m=\u001b[39max\u001b[38;5;241m.\u001b[39mtwinx()\n\u001b[1;32m      6\u001b[0m ax2\u001b[38;5;241m.\u001b[39mplot(results_2022[\u001b[38;5;124m'\u001b[39m\u001b[38;5;124mtotal_horizontal_irradiation\u001b[39m\u001b[38;5;124m'\u001b[39m], \u001b[38;5;124m'\u001b[39m\u001b[38;5;124mr\u001b[39m\u001b[38;5;124m'\u001b[39m, label\u001b[38;5;241m=\u001b[39m\u001b[38;5;124m'\u001b[39m\u001b[38;5;124m2022\u001b[39m\u001b[38;5;124m'\u001b[39m)\n",
      "\u001b[0;31mNameError\u001b[0m: name 'results_2022' is not defined"
     ]
    },
    {
     "data": {
      "image/png": "[encoded data removed]",
      "text/plain": [
       "<Figure size 1500x500 with 1 Axes>"
      ]
     },
     "metadata": {},
     "output_type": "display_data"
    }
   ],
   "source": [
    "fig, ax = plt.subplots(figsize=(15,5))\n",
    "#ax.plot(results_2021['eldemand_total_load'], label='2021')\n",
    "#ax.plot(results_2022['eldemand_total_load'], label='2022')\n",
    "ax.plot(results_2022['pvinstallation_south_power'], label='pv south')\n",
    "ax2=ax.twinx()\n",
    "ax2.plot(results_2022['total_horizontal_irradiation'], 'r', label='2022')\n",
    "#ax.plot(results['pvinstallation west_power'], label='pv west')\n",
    "#ax.plot(results['pvinstallation_east_power'] + \n",
    "#        results['pvinstallation_south_power'] + \n",
    "#        results['pvinstallation_west_power'], label='pv total')\n",
    "#ax.plot(results['eldemand_total_load'], label='demand total')\n",
    "#ax.plot(results['battery_power'], label='battery power')\n",
    "fig.legend()\n",
    "ax.set_xlim(datetime.datetime(2022,4,20), datetime.datetime(2022,4,21))"
   ]
  },
  {
   "cell_type": "code",
   "execution_count": 26,
   "id": "8ae980da",
   "metadata": {},
   "outputs": [
    {
     "data": {
      "text/plain": [
       "(19102.0, 19107.0)"
      ]
     },
     "execution_count": 26,
     "metadata": {},
     "output_type": "execute_result"
    },
    {
     "data": {
      "image/png": "[encoded data removed]",
      "text/plain": [
       "<Figure size 1500x500 with 1 Axes>"
      ]
     },
     "metadata": {},
     "output_type": "display_data"
    }
   ],
   "source": [
    "fig, ax = plt.subplots(figsize=(15,5))\n",
    "ax.plot(results_2022['total_horizontal_irradiation'], label='2022')\n",
    "ax.set_xlim(datetime.datetime(2022,4,20), datetime.datetime(2022,4,25))"
   ]
  },
  {
   "cell_type": "code",
   "execution_count": 101,
   "id": "719a6435",
   "metadata": {
    "scrolled": false
   },
   "outputs": [
    {
     "data": {
      "text/plain": [
       "<matplotlib.legend.Legend at 0x7f95b41f0370>"
      ]
     },
     "execution_count": 101,
     "metadata": {},
     "output_type": "execute_result"
    },
    {
     "data": {
      "image/png": "[encoded data removed]",
      "text/plain": [
       "<Figure size 1500x500 with 1 Axes>"
      ]
     },
     "metadata": {},
     "output_type": "display_data"
    }
   ],
   "source": [
    "fig, ax = plt.subplots(figsize=(15,5))\n",
    "ax.plot(results['price_price']*1e6, label='price')\n",
    "ax.plot(results['battery_state_of_charge'], label='battery SOC')\n",
    "ax.plot(results['battery_power']/1000, label='battery power')\n",
    "ax.set_xlim(datetime.datetime(2021,4,20), datetime.datetime(2021,4,25))\n",
    "fig.legend()"
   ]
  },
  {
   "cell_type": "markdown",
   "id": "43f898c7",
   "metadata": {},
   "source": [
    "# Nice figures"
   ]
  },
  {
   "cell_type": "code",
   "execution_count": 799,
   "id": "d26d29d8",
   "metadata": {},
   "outputs": [],
   "source": [
    "price = pd.read_csv(price_data, index_col='Time', parse_dates=True)"
   ]
  },
  {
   "cell_type": "code",
   "execution_count": 802,
   "id": "0742420d",
   "metadata": {},
   "outputs": [],
   "source": [
    "price_monthly = price.resample('M').mean()"
   ]
  },
  {
   "cell_type": "code",
   "execution_count": 846,
   "id": "66cdf79c",
   "metadata": {},
   "outputs": [],
   "source": [
    "months = ['jan', 'feb', 'mar','apr','may','jun','jul','aug','sep','oct','nov','dec']\n",
    "selfconsumption_pv = [5.0,8.4,20.3,38.3,41.6,41.2,42.8,41.8,30.1,18.9,9.8,5.0]\n",
    "selfconsumption = [10.5,16.7,29.7,48.4,52.0,52.1,54.9,52.9,43.4,30.1,17.0,9.6]\n",
    "savings = [1614,1532,2398,2562,2425,2773,3793,5103,3207,1687,1546,1763]\n",
    "payback_time = [7.044102335,7.42049939,4.740156588,4.437213683,4.687624804,4.099349696,\n",
    "                2.99710657,2.227560115,3.545276382,6.740063331,7.35526074,6.4487977]\n",
    "monthly_cost = 757.9"
   ]
  },
  {
   "cell_type": "code",
   "execution_count": 835,
   "id": "ea2ad290",
   "metadata": {
    "scrolled": true
   },
   "outputs": [
    {
     "data": {
      "image/png": "[encoded data removed]",
      "text/plain": [
       "<Figure size 1500x800 with 2 Axes>"
      ]
     },
     "metadata": {},
     "output_type": "display_data"
    }
   ],
   "source": [
    "fig, ax = plt.subplots(figsize=(15,8))\n",
    "ax.bar(months, selfconsumption, label='Eigen verbruik incl batterij', color='b', alpha=0.5)\n",
    "ax.set_ylim(0, 100)\n",
    "ax.tick_params(labelsize=15)\n",
    "ax.set_ylabel('Eigen verbruik incl batterij [%]', fontsize=18, color='b')\n",
    "\n",
    "ax2 = ax.twinx()\n",
    "ax2.plot(months, savings, label='Uitgespaarde kost', color='g')\n",
    "ax2.set_ylim(0,5500)\n",
    "ax2.tick_params(labelsize=15)\n",
    "ax2.set_ylabel('Uitgespaarde kost [€]', fontsize=18, color='g')\n",
    "#fig.legend(fontsize=15)\n",
    "sns.despine(right=False)"
   ]
  },
  {
   "cell_type": "code",
   "execution_count": 821,
   "id": "557e681b",
   "metadata": {},
   "outputs": [
    {
     "data": {
      "image/png": "[encoded data removed]",
      "text/plain": [
       "<Figure size 1500x300 with 1 Axes>"
      ]
     },
     "metadata": {},
     "output_type": "display_data"
    }
   ],
   "source": [
    "fix, ax = plt.subplots(figsize=(15,3))\n",
    "ax.bar(months, price_monthly['price'], color='g', alpha=0.5)\n",
    "ax.tick_params(labelsize=15)\n",
    "ax.set_ylabel('Gemiddelde \\n elektriciteitsprijs [€]', fontsize=15)\n",
    "sns.despine()"
   ]
  },
  {
   "cell_type": "code",
   "execution_count": 828,
   "id": "3daa7f69",
   "metadata": {},
   "outputs": [
    {
     "data": {
      "text/plain": [
       "[5.5,\n",
       " 8.299999999999999,\n",
       " 9.399999999999999,\n",
       " 10.100000000000001,\n",
       " 10.399999999999999,\n",
       " 10.899999999999999,\n",
       " 12.100000000000001,\n",
       " 11.100000000000001,\n",
       " 13.299999999999997,\n",
       " 11.200000000000003,\n",
       " 7.199999999999999,\n",
       " 4.6]"
      ]
     },
     "execution_count": 828,
     "metadata": {},
     "output_type": "execute_result"
    }
   ],
   "source": [
    "[i - j for i, j in zip(selfconsumption, selfconsumption_pv)]"
   ]
  },
  {
   "cell_type": "code",
   "execution_count": 854,
   "id": "73b91881",
   "metadata": {},
   "outputs": [
    {
     "data": {
      "text/plain": [
       "Time\n",
       "2022-01-31    191.409422\n",
       "2022-02-28    162.618657\n",
       "2022-03-31    265.950973\n",
       "2022-04-30    186.598569\n",
       "2022-05-31    176.642083\n",
       "2022-06-30    219.105028\n",
       "2022-07-31    321.349597\n",
       "2022-08-31    448.152016\n",
       "2022-09-30    346.504986\n",
       "2022-10-31    157.386698\n",
       "2022-11-30    177.905258\n",
       "2022-12-31    269.277621\n",
       "Freq: M, Name: price, dtype: float64"
      ]
     },
     "execution_count": 854,
     "metadata": {},
     "output_type": "execute_result"
    }
   ],
   "source": [
    "price_monthly['price']"
   ]
  },
  {
   "cell_type": "code",
   "execution_count": 842,
   "id": "a4c2d68d",
   "metadata": {},
   "outputs": [
    {
     "data": {
      "text/plain": [
       "[7.044102335,\n",
       " 7.42049939,\n",
       " 4.740156588,\n",
       " 4.437213683,\n",
       " 4.687624804,\n",
       " 4.099349696,\n",
       " 2.99710657,\n",
       " 2.227560115,\n",
       " 3.545276382,\n",
       " 6.740063331,\n",
       " 7.35526074,\n",
       " 6.4487977]"
      ]
     },
     "execution_count": 842,
     "metadata": {},
     "output_type": "execute_result"
    }
   ],
   "source": [
    "payback_time"
   ]
  },
  {
   "cell_type": "code",
   "execution_count": 847,
   "id": "5cb1eb3e",
   "metadata": {},
   "outputs": [],
   "source": [
    "savings_corrected = savings / price_monthly['price'] * 100 # with 100 the current average price"
   ]
  },
  {
   "cell_type": "code",
   "execution_count": 850,
   "id": "e6a43088",
   "metadata": {},
   "outputs": [
    {
     "data": {
      "text/plain": [
       "11.387747105534265"
      ]
     },
     "execution_count": 850,
     "metadata": {},
     "output_type": "execute_result"
    }
   ],
   "source": [
    "(15 / (savings_corrected / monthly_cost)).mean()"
   ]
  },
  {
   "cell_type": "markdown",
   "id": "2c5ca85a",
   "metadata": {},
   "source": [
    "# Scraps"
   ]
  },
  {
   "cell_type": "code",
   "execution_count": 135,
   "id": "e8bc9531",
   "metadata": {},
   "outputs": [],
   "source": [
    "from pytz import timezone\n",
    "tz = timezone(\"Europe/Brussels\")"
   ]
  },
  {
   "cell_type": "code",
   "execution_count": 136,
   "id": "6fb5519b",
   "metadata": {},
   "outputs": [
    {
     "data": {
      "text/plain": [
       "7200"
      ]
     },
     "execution_count": 136,
     "metadata": {},
     "output_type": "execute_result"
    }
   ],
   "source": [
    "tz.utcoffset(datetime.datetime(2022,7,1)).seconds"
   ]
  },
  {
   "cell_type": "code",
   "execution_count": 137,
   "id": "b57e38e0",
   "metadata": {},
   "outputs": [],
   "source": [
    "filepath = './data/weather_simulation.json'\n",
    "metadata = {'temperature': dict,\n",
    "                         'total_horizontal_irradiation': dict,\n",
    "                         'diffuse_horizontal_irradiation': dict}\n",
    "now = datetime.datetime(2022,7,1)\n",
    "end = datetime.datetime(2022,8,1)"
   ]
  },
  {
   "cell_type": "code",
   "execution_count": 138,
   "id": "a5bfbf9e",
   "metadata": {},
   "outputs": [],
   "source": [
    "def filter_data(pair):\n",
    "    # Throw away unused timestamps (keep 1 day before and after for peak calculation and timezone issues)\n",
    "    key, value = pair\n",
    "    if type(key) is not str:\n",
    "        key = key.strftime(\"%Y-%m-%d %H:%M:%S\")\n",
    "    if key < (now - datetime.timedelta(days=1)).strftime(\"%Y-%m-%d %H:%M:%S\") or key > (end + datetime.timedelta(days=1)).strftime(\"%Y-%m-%d %H:%M:%S\"):\n",
    "        return False\n",
    "    else:\n",
    "        return True"
   ]
  },
  {
   "cell_type": "code",
   "execution_count": 139,
   "id": "33dd9d52",
   "metadata": {},
   "outputs": [],
   "source": [
    "with open(filepath, 'r') as f:\n",
    "    data = f.read()\n",
    "# remove timestamps after end_time (speeds up simulation process)\n",
    "input_data = json.loads(data)"
   ]
  },
  {
   "cell_type": "code",
   "execution_count": 140,
   "id": "05357338",
   "metadata": {},
   "outputs": [],
   "source": [
    "d = {}\n",
    "for name in metadata.keys():\n",
    "    d[name] = dict(filter(filter_data, input_data[name].items()))\n",
    "data = d"
   ]
  },
  {
   "cell_type": "code",
   "execution_count": 141,
   "id": "46876a6b",
   "metadata": {},
   "outputs": [],
   "source": [
    "for key, series in data.items():\n",
    "    data[key] = {now + datetime.timedelta(seconds=900) * i: float(v)\n",
    "                 for i, v in zip(range(0, len(series)), series.values())}\n",
    "\n",
    "data = pd.DataFrame(data)"
   ]
  },
  {
   "cell_type": "code",
   "execution_count": 156,
   "id": "0fc6c9b7",
   "metadata": {},
   "outputs": [
    {
     "data": {
      "text/plain": [
       "DatetimeIndex(['2022-07-01 00:00:00', '2022-07-01 00:15:00',\n",
       "               '2022-07-01 00:30:00', '2022-07-01 00:45:00',\n",
       "               '2022-07-01 01:00:00', '2022-07-01 01:15:00',\n",
       "               '2022-07-01 01:30:00', '2022-07-01 01:45:00',\n",
       "               '2022-07-01 02:00:00', '2022-07-01 02:15:00',\n",
       "               ...\n",
       "               '2022-08-01 21:45:00', '2022-08-01 22:00:00',\n",
       "               '2022-08-01 22:15:00', '2022-08-01 22:30:00',\n",
       "               '2022-08-01 22:45:00', '2022-08-01 23:00:00',\n",
       "               '2022-08-01 23:15:00', '2022-08-01 23:30:00',\n",
       "               '2022-08-01 23:45:00', '2022-08-02 00:00:00'],\n",
       "              dtype='datetime64[ns]', length=3073, freq=None)"
      ]
     },
     "execution_count": 156,
     "metadata": {},
     "output_type": "execute_result"
    }
   ],
   "source": [
    "data.index#.freq"
   ]
  },
  {
   "cell_type": "code",
   "execution_count": 143,
   "id": "33ba7e0c",
   "metadata": {
    "scrolled": true
   },
   "outputs": [
    {
     "data": {
      "text/plain": [
       "900"
      ]
     },
     "execution_count": 143,
     "metadata": {},
     "output_type": "execute_result"
    }
   ],
   "source": [
    "pd.to_timedelta(pd.infer_freq(data.index)).seconds"
   ]
  },
  {
   "cell_type": "code",
   "execution_count": 157,
   "id": "1753b7f6",
   "metadata": {},
   "outputs": [
    {
     "data": {
      "text/plain": [
       "Timestamp('2022-07-01 00:00:00')"
      ]
     },
     "execution_count": 157,
     "metadata": {},
     "output_type": "execute_result"
    }
   ],
   "source": [
    "data.sort_index().index[0]#.to_pydatetime()"
   ]
  },
  {
   "cell_type": "code",
   "execution_count": 158,
   "id": "c6be4f4c",
   "metadata": {},
   "outputs": [],
   "source": [
    "d = {k: {t.timestamp(): v \n",
    "         for t, v in data[k].to_dict().items()} for k in data.columns} #"
   ]
  },
  {
   "cell_type": "code",
   "execution_count": 146,
   "id": "21a02eb3",
   "metadata": {
    "scrolled": true
   },
   "outputs": [],
   "source": [
    "#df = pd.DataFrame(d)\n",
    "#df[datetime.datetime(2022, 7, 1, 0, 0):datetime.datetime(2022, 7, 1, 12, 0)]"
   ]
  },
  {
   "cell_type": "code",
   "execution_count": 147,
   "id": "27db72ef",
   "metadata": {},
   "outputs": [],
   "source": [
    "#df.index[0]"
   ]
  },
  {
   "cell_type": "code",
   "execution_count": 159,
   "id": "6c49e744",
   "metadata": {},
   "outputs": [
    {
     "data": {
      "text/plain": [
       "{1656633600.0: 0.0,\n",
       " 1656634500.0: 0.0,\n",
       " 1656635400.0: 0.0,\n",
       " 1656636300.0: 0.0,\n",
       " 1656637200.0: 0.0,\n",
       " 1656638100.0: 0.0,\n",
       " 1656639000.0: 0.0,\n",
       " 1656639900.0: 0.0,\n",
       " 1656640800.0: 0.0,\n",
       " 1656641700.0: 0.0,\n",
       " 1656642600.0: 0.0,\n",
       " 1656643500.0: 0.0,\n",
       " 1656644400.0: 0.0,\n",
       " 1656645300.0: 0.0,\n",
       " 1656646200.0: 0.0,\n",
       " 1656647100.0: 0.0,\n",
       " 1656648000.0: 5.0,\n",
       " 1656648900.0: 5.0,\n",
       " 1656649800.0: 5.0,\n",
       " 1656650700.0: 5.0,\n",
       " 1656651600.0: 56.0,\n",
       " 1656652500.0: 56.0,\n",
       " 1656653400.0: 56.0,\n",
       " 1656654300.0: 56.0,\n",
       " 1656655200.0: 110.0,\n",
       " 1656656100.0: 110.0,\n",
       " 1656657000.0: 110.0,\n",
       " 1656657900.0: 110.0,\n",
       " 1656658800.0: 200.0,\n",
       " 1656659700.0: 200.0,\n",
       " 1656660600.0: 200.0,\n",
       " 1656661500.0: 200.0,\n",
       " 1656662400.0: 126.0,\n",
       " 1656663300.0: 126.0,\n",
       " 1656664200.0: 126.0,\n",
       " 1656665100.0: 126.0,\n",
       " 1656666000.0: 223.0,\n",
       " 1656666900.0: 223.0,\n",
       " 1656667800.0: 223.0,\n",
       " 1656668700.0: 223.0,\n",
       " 1656669600.0: 193.0,\n",
       " 1656670500.0: 193.0,\n",
       " 1656671400.0: 193.0,\n",
       " 1656672300.0: 193.0,\n",
       " 1656673200.0: 465.0,\n",
       " 1656674100.0: 465.0,\n",
       " 1656675000.0: 465.0,\n",
       " 1656675900.0: 465.0,\n",
       " 1656676800.0: 221.0,\n",
       " 1656677700.0: 221.0,\n",
       " 1656678600.0: 221.0,\n",
       " 1656679500.0: 221.0,\n",
       " 1656680400.0: 377.0,\n",
       " 1656681300.0: 377.0,\n",
       " 1656682200.0: 377.0,\n",
       " 1656683100.0: 377.0,\n",
       " 1656684000.0: 396.0,\n",
       " 1656684900.0: 396.0,\n",
       " 1656685800.0: 396.0,\n",
       " 1656686700.0: 396.0,\n",
       " 1656687600.0: 527.0,\n",
       " 1656688500.0: 527.0,\n",
       " 1656689400.0: 527.0,\n",
       " 1656690300.0: 527.0,\n",
       " 1656691200.0: 512.0,\n",
       " 1656692100.0: 512.0,\n",
       " 1656693000.0: 512.0,\n",
       " 1656693900.0: 512.0,\n",
       " 1656694800.0: 354.0,\n",
       " 1656695700.0: 354.0,\n",
       " 1656696600.0: 354.0,\n",
       " 1656697500.0: 354.0,\n",
       " 1656698400.0: 193.0,\n",
       " 1656699300.0: 193.0,\n",
       " 1656700200.0: 193.0,\n",
       " 1656701100.0: 193.0,\n",
       " 1656702000.0: 57.0,\n",
       " 1656702900.0: 57.0,\n",
       " 1656703800.0: 57.0,\n",
       " 1656704700.0: 57.0,\n",
       " 1656705600.0: 0.0,\n",
       " 1656706500.0: 0.0,\n",
       " 1656707400.0: 0.0,\n",
       " 1656708300.0: 0.0,\n",
       " 1656709200.0: 0.0,\n",
       " 1656710100.0: 0.0,\n",
       " 1656711000.0: 0.0,\n",
       " 1656711900.0: 0.0,\n",
       " 1656712800.0: 0.0,\n",
       " 1656713700.0: 0.0,\n",
       " 1656714600.0: 0.0,\n",
       " 1656715500.0: 0.0,\n",
       " 1656716400.0: 0.0,\n",
       " 1656717300.0: 0.0,\n",
       " 1656718200.0: 0.0,\n",
       " 1656719100.0: 0.0,\n",
       " 1656720000.0: 0.0,\n",
       " 1656720900.0: 0.0,\n",
       " 1656721800.0: 0.0,\n",
       " 1656722700.0: 0.0,\n",
       " 1656723600.0: 0.0,\n",
       " 1656724500.0: 0.0,\n",
       " 1656725400.0: 0.0,\n",
       " 1656726300.0: 0.0,\n",
       " 1656727200.0: 0.0,\n",
       " 1656728100.0: 0.0,\n",
       " 1656729000.0: 0.0,\n",
       " 1656729900.0: 0.0,\n",
       " 1656730800.0: 0.0,\n",
       " 1656731700.0: 0.0,\n",
       " 1656732600.0: 0.0,\n",
       " 1656733500.0: 0.0,\n",
       " 1656734400.0: 20.0,\n",
       " 1656735300.0: 20.0,\n",
       " 1656736200.0: 20.0,\n",
       " 1656737100.0: 20.0,\n",
       " 1656738000.0: 136.0,\n",
       " 1656738900.0: 136.0,\n",
       " 1656739800.0: 136.0,\n",
       " 1656740700.0: 136.0,\n",
       " 1656741600.0: 297.0,\n",
       " 1656742500.0: 297.0,\n",
       " 1656743400.0: 297.0,\n",
       " 1656744300.0: 297.0,\n",
       " 1656745200.0: 462.0,\n",
       " 1656746100.0: 462.0,\n",
       " 1656747000.0: 462.0,\n",
       " 1656747900.0: 462.0,\n",
       " 1656748800.0: 522.0,\n",
       " 1656749700.0: 522.0,\n",
       " 1656750600.0: 522.0,\n",
       " 1656751500.0: 522.0,\n",
       " 1656752400.0: 316.0,\n",
       " 1656753300.0: 316.0,\n",
       " 1656754200.0: 316.0,\n",
       " 1656755100.0: 316.0,\n",
       " 1656756000.0: 238.0,\n",
       " 1656756900.0: 238.0,\n",
       " 1656757800.0: 238.0,\n",
       " 1656758700.0: 238.0,\n",
       " 1656759600.0: 315.0,\n",
       " 1656760500.0: 315.0,\n",
       " 1656761400.0: 315.0,\n",
       " 1656762300.0: 315.0,\n",
       " 1656763200.0: 422.0,\n",
       " 1656764100.0: 422.0,\n",
       " 1656765000.0: 422.0,\n",
       " 1656765900.0: 422.0,\n",
       " 1656766800.0: 690.0,\n",
       " 1656767700.0: 690.0,\n",
       " 1656768600.0: 690.0,\n",
       " 1656769500.0: 690.0,\n",
       " 1656770400.0: 703.0,\n",
       " 1656771300.0: 703.0,\n",
       " 1656772200.0: 703.0,\n",
       " 1656773100.0: 703.0,\n",
       " 1656774000.0: 624.0,\n",
       " 1656774900.0: 624.0,\n",
       " 1656775800.0: 624.0,\n",
       " 1656776700.0: 624.0,\n",
       " 1656777600.0: 512.0,\n",
       " 1656778500.0: 512.0,\n",
       " 1656779400.0: 512.0,\n",
       " 1656780300.0: 512.0,\n",
       " 1656781200.0: 346.0,\n",
       " 1656782100.0: 346.0,\n",
       " 1656783000.0: 346.0,\n",
       " 1656783900.0: 346.0,\n",
       " 1656784800.0: 93.0,\n",
       " 1656785700.0: 93.0,\n",
       " 1656786600.0: 93.0,\n",
       " 1656787500.0: 93.0,\n",
       " 1656788400.0: 10.0,\n",
       " 1656789300.0: 10.0,\n",
       " 1656790200.0: 10.0,\n",
       " 1656791100.0: 10.0,\n",
       " 1656792000.0: 0.0,\n",
       " 1656792900.0: 0.0,\n",
       " 1656793800.0: 0.0,\n",
       " 1656794700.0: 0.0,\n",
       " 1656795600.0: 0.0,\n",
       " 1656796500.0: 0.0,\n",
       " 1656797400.0: 0.0,\n",
       " 1656798300.0: 0.0,\n",
       " 1656799200.0: 0.0,\n",
       " 1656800100.0: 0.0,\n",
       " 1656801000.0: 0.0,\n",
       " 1656801900.0: 0.0,\n",
       " 1656802800.0: 0.0,\n",
       " 1656803700.0: 0.0,\n",
       " 1656804600.0: 0.0,\n",
       " 1656805500.0: 0.0,\n",
       " 1656806400.0: 0.0,\n",
       " 1656807300.0: 0.0,\n",
       " 1656808200.0: 0.0,\n",
       " 1656809100.0: 0.0,\n",
       " 1656810000.0: 0.0,\n",
       " 1656810900.0: 0.0,\n",
       " 1656811800.0: 0.0,\n",
       " 1656812700.0: 0.0,\n",
       " 1656813600.0: 0.0,\n",
       " 1656814500.0: 0.0,\n",
       " 1656815400.0: 0.0,\n",
       " 1656816300.0: 0.0,\n",
       " 1656817200.0: 0.0,\n",
       " 1656818100.0: 0.0,\n",
       " 1656819000.0: 0.0,\n",
       " 1656819900.0: 0.0,\n",
       " 1656820800.0: 10.0,\n",
       " 1656821700.0: 10.0,\n",
       " 1656822600.0: 10.0,\n",
       " 1656823500.0: 10.0,\n",
       " 1656824400.0: 37.0,\n",
       " 1656825300.0: 37.0,\n",
       " 1656826200.0: 37.0,\n",
       " 1656827100.0: 37.0,\n",
       " 1656828000.0: 83.0,\n",
       " 1656828900.0: 83.0,\n",
       " 1656829800.0: 83.0,\n",
       " 1656830700.0: 83.0,\n",
       " 1656831600.0: 0.0,\n",
       " 1656832500.0: 0.0,\n",
       " 1656833400.0: 0.0,\n",
       " 1656834300.0: 0.0,\n",
       " 1656835200.0: 299.0,\n",
       " 1656836100.0: 299.0,\n",
       " 1656837000.0: 299.0,\n",
       " 1656837900.0: 299.0,\n",
       " 1656838800.0: 259.0,\n",
       " 1656839700.0: 259.0,\n",
       " 1656840600.0: 259.0,\n",
       " 1656841500.0: 259.0,\n",
       " 1656842400.0: 273.0,\n",
       " 1656843300.0: 273.0,\n",
       " 1656844200.0: 273.0,\n",
       " 1656845100.0: 273.0,\n",
       " 1656846000.0: 310.0,\n",
       " 1656846900.0: 310.0,\n",
       " 1656847800.0: 310.0,\n",
       " 1656848700.0: 310.0,\n",
       " 1656849600.0: 680.0,\n",
       " 1656850500.0: 680.0,\n",
       " 1656851400.0: 680.0,\n",
       " 1656852300.0: 680.0,\n",
       " 1656853200.0: 854.0,\n",
       " 1656854100.0: 854.0,\n",
       " 1656855000.0: 854.0,\n",
       " 1656855900.0: 854.0,\n",
       " 1656856800.0: 799.0,\n",
       " 1656857700.0: 799.0,\n",
       " 1656858600.0: 799.0,\n",
       " 1656859500.0: 799.0,\n",
       " 1656860400.0: 583.0,\n",
       " 1656861300.0: 583.0,\n",
       " 1656862200.0: 583.0,\n",
       " 1656863100.0: 583.0,\n",
       " 1656864000.0: 356.0,\n",
       " 1656864900.0: 356.0,\n",
       " 1656865800.0: 356.0,\n",
       " 1656866700.0: 356.0,\n",
       " 1656867600.0: 304.0,\n",
       " 1656868500.0: 304.0,\n",
       " 1656869400.0: 304.0,\n",
       " 1656870300.0: 304.0,\n",
       " 1656871200.0: 87.0,\n",
       " 1656872100.0: 87.0,\n",
       " 1656873000.0: 87.0,\n",
       " 1656873900.0: 87.0,\n",
       " 1656874800.0: 6.0,\n",
       " 1656875700.0: 6.0,\n",
       " 1656876600.0: 6.0,\n",
       " 1656877500.0: 6.0,\n",
       " 1656878400.0: 0.0,\n",
       " 1656879300.0: 0.0,\n",
       " 1656880200.0: 0.0,\n",
       " 1656881100.0: 0.0,\n",
       " 1656882000.0: 0.0,\n",
       " 1656882900.0: 0.0,\n",
       " 1656883800.0: 0.0,\n",
       " 1656884700.0: 0.0,\n",
       " 1656885600.0: 0.0,\n",
       " 1656886500.0: 0.0,\n",
       " 1656887400.0: 0.0,\n",
       " 1656888300.0: 0.0,\n",
       " 1656889200.0: 0.0,\n",
       " 1656890100.0: 0.0,\n",
       " 1656891000.0: 0.0,\n",
       " 1656891900.0: 0.0,\n",
       " 1656892800.0: 0.0,\n",
       " 1656893700.0: 0.0,\n",
       " 1656894600.0: 0.0,\n",
       " 1656895500.0: 0.0,\n",
       " 1656896400.0: 0.0,\n",
       " 1656897300.0: 0.0,\n",
       " 1656898200.0: 0.0,\n",
       " 1656899100.0: 0.0,\n",
       " 1656900000.0: 0.0,\n",
       " 1656900900.0: 0.0,\n",
       " 1656901800.0: 0.0,\n",
       " 1656902700.0: 0.0,\n",
       " 1656903600.0: 0.0,\n",
       " 1656904500.0: 0.0,\n",
       " 1656905400.0: 0.0,\n",
       " 1656906300.0: 0.0,\n",
       " 1656907200.0: 28.0,\n",
       " 1656908100.0: 28.0,\n",
       " 1656909000.0: 28.0,\n",
       " 1656909900.0: 28.0,\n",
       " 1656910800.0: 121.0,\n",
       " 1656911700.0: 121.0,\n",
       " 1656912600.0: 121.0,\n",
       " 1656913500.0: 121.0,\n",
       " 1656914400.0: 299.0,\n",
       " 1656915300.0: 299.0,\n",
       " 1656916200.0: 299.0,\n",
       " 1656917100.0: 299.0,\n",
       " 1656918000.0: 457.0,\n",
       " 1656918900.0: 457.0,\n",
       " 1656919800.0: 457.0,\n",
       " 1656920700.0: 457.0,\n",
       " 1656921600.0: 539.0,\n",
       " 1656922500.0: 539.0,\n",
       " 1656923400.0: 539.0,\n",
       " 1656924300.0: 539.0,\n",
       " 1656925200.0: 740.0,\n",
       " 1656926100.0: 740.0,\n",
       " 1656927000.0: 740.0,\n",
       " 1656927900.0: 740.0,\n",
       " 1656928800.0: 852.0,\n",
       " 1656929700.0: 852.0,\n",
       " 1656930600.0: 852.0,\n",
       " 1656931500.0: 852.0,\n",
       " 1656932400.0: 919.0,\n",
       " 1656933300.0: 919.0,\n",
       " 1656934200.0: 919.0,\n",
       " 1656935100.0: 919.0,\n",
       " 1656936000.0: 874.0,\n",
       " 1656936900.0: 874.0,\n",
       " 1656937800.0: 874.0,\n",
       " 1656938700.0: 874.0,\n",
       " 1656939600.0: 835.0,\n",
       " 1656940500.0: 835.0,\n",
       " 1656941400.0: 835.0,\n",
       " 1656942300.0: 835.0,\n",
       " 1656943200.0: 779.0,\n",
       " 1656944100.0: 779.0,\n",
       " 1656945000.0: 779.0,\n",
       " 1656945900.0: 779.0,\n",
       " 1656946800.0: 553.0,\n",
       " 1656947700.0: 553.0,\n",
       " 1656948600.0: 553.0,\n",
       " 1656949500.0: 553.0,\n",
       " 1656950400.0: 503.0,\n",
       " 1656951300.0: 503.0,\n",
       " 1656952200.0: 503.0,\n",
       " 1656953100.0: 503.0,\n",
       " 1656954000.0: 345.0,\n",
       " 1656954900.0: 345.0,\n",
       " 1656955800.0: 345.0,\n",
       " 1656956700.0: 345.0,\n",
       " 1656957600.0: 185.0,\n",
       " 1656958500.0: 185.0,\n",
       " 1656959400.0: 185.0,\n",
       " 1656960300.0: 185.0,\n",
       " 1656961200.0: 51.0,\n",
       " 1656962100.0: 51.0,\n",
       " 1656963000.0: 51.0,\n",
       " 1656963900.0: 51.0,\n",
       " 1656964800.0: 0.0,\n",
       " 1656965700.0: 0.0,\n",
       " 1656966600.0: 0.0,\n",
       " 1656967500.0: 0.0,\n",
       " 1656968400.0: 0.0,\n",
       " 1656969300.0: 0.0,\n",
       " 1656970200.0: 0.0,\n",
       " 1656971100.0: 0.0,\n",
       " 1656972000.0: 0.0,\n",
       " 1656972900.0: 0.0,\n",
       " 1656973800.0: 0.0,\n",
       " 1656974700.0: 0.0,\n",
       " 1656975600.0: 0.0,\n",
       " 1656976500.0: 0.0,\n",
       " 1656977400.0: 0.0,\n",
       " 1656978300.0: 0.0,\n",
       " 1656979200.0: 0.0,\n",
       " 1656980100.0: 0.0,\n",
       " 1656981000.0: 0.0,\n",
       " 1656981900.0: 0.0,\n",
       " 1656982800.0: 0.0,\n",
       " 1656983700.0: 0.0,\n",
       " 1656984600.0: 0.0,\n",
       " 1656985500.0: 0.0,\n",
       " 1656986400.0: 0.0,\n",
       " 1656987300.0: 0.0,\n",
       " 1656988200.0: 0.0,\n",
       " 1656989100.0: 0.0,\n",
       " 1656990000.0: 0.0,\n",
       " 1656990900.0: 0.0,\n",
       " 1656991800.0: 0.0,\n",
       " 1656992700.0: 0.0,\n",
       " 1656993600.0: 2.0,\n",
       " 1656994500.0: 2.0,\n",
       " 1656995400.0: 2.0,\n",
       " 1656996300.0: 2.0,\n",
       " 1656997200.0: 20.0,\n",
       " 1656998100.0: 20.0,\n",
       " 1656999000.0: 20.0,\n",
       " 1656999900.0: 20.0,\n",
       " 1657000800.0: 55.0,\n",
       " 1657001700.0: 55.0,\n",
       " 1657002600.0: 55.0,\n",
       " 1657003500.0: 55.0,\n",
       " 1657004400.0: 260.0,\n",
       " 1657005300.0: 260.0,\n",
       " 1657006200.0: 260.0,\n",
       " 1657007100.0: 260.0,\n",
       " 1657008000.0: 614.0,\n",
       " 1657008900.0: 614.0,\n",
       " 1657009800.0: 614.0,\n",
       " 1657010700.0: 614.0,\n",
       " 1657011600.0: 742.0,\n",
       " 1657012500.0: 742.0,\n",
       " 1657013400.0: 742.0,\n",
       " 1657014300.0: 742.0,\n",
       " 1657015200.0: 148.0,\n",
       " 1657016100.0: 148.0,\n",
       " 1657017000.0: 148.0,\n",
       " 1657017900.0: 148.0,\n",
       " 1657018800.0: 113.0,\n",
       " 1657019700.0: 113.0,\n",
       " 1657020600.0: 113.0,\n",
       " 1657021500.0: 113.0,\n",
       " 1657022400.0: 138.0,\n",
       " 1657023300.0: 138.0,\n",
       " 1657024200.0: 138.0,\n",
       " 1657025100.0: 138.0,\n",
       " 1657026000.0: 121.0,\n",
       " 1657026900.0: 121.0,\n",
       " 1657027800.0: 121.0,\n",
       " 1657028700.0: 121.0,\n",
       " 1657029600.0: 466.0,\n",
       " 1657030500.0: 466.0,\n",
       " 1657031400.0: 466.0,\n",
       " 1657032300.0: 466.0,\n",
       " 1657033200.0: 654.0,\n",
       " 1657034100.0: 654.0,\n",
       " 1657035000.0: 654.0,\n",
       " 1657035900.0: 654.0,\n",
       " 1657036800.0: 494.0,\n",
       " 1657037700.0: 494.0,\n",
       " 1657038600.0: 494.0,\n",
       " 1657039500.0: 494.0,\n",
       " 1657040400.0: 158.0,\n",
       " 1657041300.0: 158.0,\n",
       " 1657042200.0: 158.0,\n",
       " 1657043100.0: 158.0,\n",
       " 1657044000.0: 24.0,\n",
       " 1657044900.0: 24.0,\n",
       " 1657045800.0: 24.0,\n",
       " 1657046700.0: 24.0,\n",
       " 1657047600.0: 16.0,\n",
       " 1657048500.0: 16.0,\n",
       " 1657049400.0: 16.0,\n",
       " 1657050300.0: 16.0,\n",
       " 1657051200.0: 0.0,\n",
       " 1657052100.0: 0.0,\n",
       " 1657053000.0: 0.0,\n",
       " 1657053900.0: 0.0,\n",
       " 1657054800.0: 0.0,\n",
       " 1657055700.0: 0.0,\n",
       " 1657056600.0: 0.0,\n",
       " 1657057500.0: 0.0,\n",
       " 1657058400.0: 0.0,\n",
       " 1657059300.0: 0.0,\n",
       " 1657060200.0: 0.0,\n",
       " 1657061100.0: 0.0,\n",
       " 1657062000.0: 0.0,\n",
       " 1657062900.0: 0.0,\n",
       " 1657063800.0: 0.0,\n",
       " 1657064700.0: 0.0,\n",
       " 1657065600.0: 0.0,\n",
       " 1657066500.0: 0.0,\n",
       " 1657067400.0: 0.0,\n",
       " 1657068300.0: 0.0,\n",
       " 1657069200.0: 0.0,\n",
       " 1657070100.0: 0.0,\n",
       " 1657071000.0: 0.0,\n",
       " 1657071900.0: 0.0,\n",
       " 1657072800.0: 0.0,\n",
       " 1657073700.0: 0.0,\n",
       " 1657074600.0: 0.0,\n",
       " 1657075500.0: 0.0,\n",
       " 1657076400.0: 0.0,\n",
       " 1657077300.0: 0.0,\n",
       " 1657078200.0: 0.0,\n",
       " 1657079100.0: 0.0,\n",
       " 1657080000.0: 14.0,\n",
       " 1657080900.0: 14.0,\n",
       " 1657081800.0: 14.0,\n",
       " 1657082700.0: 14.0,\n",
       " 1657083600.0: 132.0,\n",
       " 1657084500.0: 132.0,\n",
       " 1657085400.0: 132.0,\n",
       " 1657086300.0: 132.0,\n",
       " 1657087200.0: 261.0,\n",
       " 1657088100.0: 261.0,\n",
       " 1657089000.0: 261.0,\n",
       " 1657089900.0: 261.0,\n",
       " 1657090800.0: 441.0,\n",
       " 1657091700.0: 441.0,\n",
       " 1657092600.0: 441.0,\n",
       " 1657093500.0: 441.0,\n",
       " 1657094400.0: 599.0,\n",
       " 1657095300.0: 599.0,\n",
       " 1657096200.0: 599.0,\n",
       " 1657097100.0: 599.0,\n",
       " 1657098000.0: 733.0,\n",
       " 1657098900.0: 733.0,\n",
       " 1657099800.0: 733.0,\n",
       " 1657100700.0: 733.0,\n",
       " 1657101600.0: 775.0,\n",
       " 1657102500.0: 775.0,\n",
       " 1657103400.0: 775.0,\n",
       " 1657104300.0: 775.0,\n",
       " 1657105200.0: 856.0,\n",
       " 1657106100.0: 856.0,\n",
       " 1657107000.0: 856.0,\n",
       " 1657107900.0: 856.0,\n",
       " 1657108800.0: 872.0,\n",
       " 1657109700.0: 872.0,\n",
       " 1657110600.0: 872.0,\n",
       " 1657111500.0: 872.0,\n",
       " 1657112400.0: 833.0,\n",
       " 1657113300.0: 833.0,\n",
       " 1657114200.0: 833.0,\n",
       " 1657115100.0: 833.0,\n",
       " 1657116000.0: 744.0,\n",
       " 1657116900.0: 744.0,\n",
       " 1657117800.0: 744.0,\n",
       " 1657118700.0: 744.0,\n",
       " 1657119600.0: 653.0,\n",
       " 1657120500.0: 653.0,\n",
       " 1657121400.0: 653.0,\n",
       " 1657122300.0: 653.0,\n",
       " 1657123200.0: 493.0,\n",
       " 1657124100.0: 493.0,\n",
       " 1657125000.0: 493.0,\n",
       " 1657125900.0: 493.0,\n",
       " 1657126800.0: 335.0,\n",
       " 1657127700.0: 335.0,\n",
       " 1657128600.0: 335.0,\n",
       " 1657129500.0: 335.0,\n",
       " 1657130400.0: 155.0,\n",
       " 1657131300.0: 155.0,\n",
       " 1657132200.0: 155.0,\n",
       " 1657133100.0: 155.0,\n",
       " 1657134000.0: 44.0,\n",
       " 1657134900.0: 44.0,\n",
       " 1657135800.0: 44.0,\n",
       " 1657136700.0: 44.0,\n",
       " 1657137600.0: 0.0,\n",
       " 1657138500.0: 0.0,\n",
       " 1657139400.0: 0.0,\n",
       " 1657140300.0: 0.0,\n",
       " 1657141200.0: 0.0,\n",
       " 1657142100.0: 0.0,\n",
       " 1657143000.0: 0.0,\n",
       " 1657143900.0: 0.0,\n",
       " 1657144800.0: 0.0,\n",
       " 1657145700.0: 0.0,\n",
       " 1657146600.0: 0.0,\n",
       " 1657147500.0: 0.0,\n",
       " 1657148400.0: 0.0,\n",
       " 1657149300.0: 0.0,\n",
       " 1657150200.0: 0.0,\n",
       " 1657151100.0: 0.0,\n",
       " 1657152000.0: 0.0,\n",
       " 1657152900.0: 0.0,\n",
       " 1657153800.0: 0.0,\n",
       " 1657154700.0: 0.0,\n",
       " 1657155600.0: 0.0,\n",
       " 1657156500.0: 0.0,\n",
       " 1657157400.0: 0.0,\n",
       " 1657158300.0: 0.0,\n",
       " 1657159200.0: 0.0,\n",
       " 1657160100.0: 0.0,\n",
       " 1657161000.0: 0.0,\n",
       " 1657161900.0: 0.0,\n",
       " 1657162800.0: 0.0,\n",
       " 1657163700.0: 0.0,\n",
       " 1657164600.0: 0.0,\n",
       " 1657165500.0: 0.0,\n",
       " 1657166400.0: 3.0,\n",
       " 1657167300.0: 3.0,\n",
       " 1657168200.0: 3.0,\n",
       " 1657169100.0: 3.0,\n",
       " 1657170000.0: 79.0,\n",
       " 1657170900.0: 79.0,\n",
       " 1657171800.0: 79.0,\n",
       " 1657172700.0: 79.0,\n",
       " 1657173600.0: 284.0,\n",
       " 1657174500.0: 284.0,\n",
       " 1657175400.0: 284.0,\n",
       " 1657176300.0: 284.0,\n",
       " 1657177200.0: 449.0,\n",
       " 1657178100.0: 449.0,\n",
       " 1657179000.0: 449.0,\n",
       " 1657179900.0: 449.0,\n",
       " 1657180800.0: 611.0,\n",
       " 1657181700.0: 611.0,\n",
       " 1657182600.0: 611.0,\n",
       " 1657183500.0: 611.0,\n",
       " 1657184400.0: 564.0,\n",
       " 1657185300.0: 564.0,\n",
       " 1657186200.0: 564.0,\n",
       " 1657187100.0: 564.0,\n",
       " 1657188000.0: 593.0,\n",
       " 1657188900.0: 593.0,\n",
       " 1657189800.0: 593.0,\n",
       " 1657190700.0: 593.0,\n",
       " 1657191600.0: 668.0,\n",
       " 1657192500.0: 668.0,\n",
       " 1657193400.0: 668.0,\n",
       " 1657194300.0: 668.0,\n",
       " 1657195200.0: 636.0,\n",
       " 1657196100.0: 636.0,\n",
       " 1657197000.0: 636.0,\n",
       " 1657197900.0: 636.0,\n",
       " 1657198800.0: 767.0,\n",
       " 1657199700.0: 767.0,\n",
       " 1657200600.0: 767.0,\n",
       " 1657201500.0: 767.0,\n",
       " 1657202400.0: 735.0,\n",
       " 1657203300.0: 735.0,\n",
       " 1657204200.0: 735.0,\n",
       " 1657205100.0: 735.0,\n",
       " 1657206000.0: 373.0,\n",
       " 1657206900.0: 373.0,\n",
       " 1657207800.0: 373.0,\n",
       " 1657208700.0: 373.0,\n",
       " 1657209600.0: 310.0,\n",
       " 1657210500.0: 310.0,\n",
       " 1657211400.0: 310.0,\n",
       " 1657212300.0: 310.0,\n",
       " 1657213200.0: 330.0,\n",
       " 1657214100.0: 330.0,\n",
       " 1657215000.0: 330.0,\n",
       " 1657215900.0: 330.0,\n",
       " 1657216800.0: 185.0,\n",
       " 1657217700.0: 185.0,\n",
       " 1657218600.0: 185.0,\n",
       " 1657219500.0: 185.0,\n",
       " 1657220400.0: 48.0,\n",
       " 1657221300.0: 48.0,\n",
       " 1657222200.0: 48.0,\n",
       " 1657223100.0: 48.0,\n",
       " 1657224000.0: 0.0,\n",
       " 1657224900.0: 0.0,\n",
       " 1657225800.0: 0.0,\n",
       " 1657226700.0: 0.0,\n",
       " 1657227600.0: 0.0,\n",
       " 1657228500.0: 0.0,\n",
       " 1657229400.0: 0.0,\n",
       " 1657230300.0: 0.0,\n",
       " 1657231200.0: 0.0,\n",
       " 1657232100.0: 0.0,\n",
       " 1657233000.0: 0.0,\n",
       " 1657233900.0: 0.0,\n",
       " 1657234800.0: 0.0,\n",
       " 1657235700.0: 0.0,\n",
       " 1657236600.0: 0.0,\n",
       " 1657237500.0: 0.0,\n",
       " 1657238400.0: 0.0,\n",
       " 1657239300.0: 0.0,\n",
       " 1657240200.0: 0.0,\n",
       " 1657241100.0: 0.0,\n",
       " 1657242000.0: 0.0,\n",
       " 1657242900.0: 0.0,\n",
       " 1657243800.0: 0.0,\n",
       " 1657244700.0: 0.0,\n",
       " 1657245600.0: 0.0,\n",
       " 1657246500.0: 0.0,\n",
       " 1657247400.0: 0.0,\n",
       " 1657248300.0: 0.0,\n",
       " 1657249200.0: 0.0,\n",
       " 1657250100.0: 0.0,\n",
       " 1657251000.0: 0.0,\n",
       " 1657251900.0: 0.0,\n",
       " 1657252800.0: 18.0,\n",
       " 1657253700.0: 18.0,\n",
       " 1657254600.0: 18.0,\n",
       " 1657255500.0: 18.0,\n",
       " 1657256400.0: 147.0,\n",
       " 1657257300.0: 147.0,\n",
       " 1657258200.0: 147.0,\n",
       " 1657259100.0: 147.0,\n",
       " 1657260000.0: 297.0,\n",
       " 1657260900.0: 297.0,\n",
       " 1657261800.0: 297.0,\n",
       " 1657262700.0: 297.0,\n",
       " 1657263600.0: 462.0,\n",
       " 1657264500.0: 462.0,\n",
       " 1657265400.0: 462.0,\n",
       " 1657266300.0: 462.0,\n",
       " 1657267200.0: 619.0,\n",
       " 1657268100.0: 619.0,\n",
       " 1657269000.0: 619.0,\n",
       " 1657269900.0: 619.0,\n",
       " 1657270800.0: 726.0,\n",
       " 1657271700.0: 726.0,\n",
       " 1657272600.0: 726.0,\n",
       " 1657273500.0: 726.0,\n",
       " 1657274400.0: 798.0,\n",
       " 1657275300.0: 798.0,\n",
       " 1657276200.0: 798.0,\n",
       " 1657277100.0: 798.0,\n",
       " 1657278000.0: 836.0,\n",
       " 1657278900.0: 836.0,\n",
       " 1657279800.0: 836.0,\n",
       " 1657280700.0: 836.0,\n",
       " 1657281600.0: 746.0,\n",
       " 1657282500.0: 746.0,\n",
       " 1657283400.0: 746.0,\n",
       " 1657284300.0: 746.0,\n",
       " 1657285200.0: 722.0,\n",
       " 1657286100.0: 722.0,\n",
       " 1657287000.0: 722.0,\n",
       " 1657287900.0: 722.0,\n",
       " 1657288800.0: 715.0,\n",
       " 1657289700.0: 715.0,\n",
       " 1657290600.0: 715.0,\n",
       " 1657291500.0: 715.0,\n",
       " 1657292400.0: 623.0,\n",
       " 1657293300.0: 623.0,\n",
       " 1657294200.0: 623.0,\n",
       " 1657295100.0: 623.0,\n",
       " 1657296000.0: 335.0,\n",
       " 1657296900.0: 335.0,\n",
       " 1657297800.0: 335.0,\n",
       " 1657298700.0: 335.0,\n",
       " 1657299600.0: 153.0,\n",
       " 1657300500.0: 153.0,\n",
       " 1657301400.0: 153.0,\n",
       " 1657302300.0: 153.0,\n",
       " 1657303200.0: 56.0,\n",
       " 1657304100.0: 56.0,\n",
       " 1657305000.0: 56.0,\n",
       " 1657305900.0: 56.0,\n",
       " 1657306800.0: 38.0,\n",
       " 1657307700.0: 38.0,\n",
       " 1657308600.0: 38.0,\n",
       " 1657309500.0: 38.0,\n",
       " 1657310400.0: 0.0,\n",
       " 1657311300.0: 0.0,\n",
       " 1657312200.0: 0.0,\n",
       " 1657313100.0: 0.0,\n",
       " 1657314000.0: 0.0,\n",
       " 1657314900.0: 0.0,\n",
       " 1657315800.0: 0.0,\n",
       " 1657316700.0: 0.0,\n",
       " 1657317600.0: 0.0,\n",
       " 1657318500.0: 0.0,\n",
       " 1657319400.0: 0.0,\n",
       " 1657320300.0: 0.0,\n",
       " 1657321200.0: 0.0,\n",
       " 1657322100.0: 0.0,\n",
       " 1657323000.0: 0.0,\n",
       " 1657323900.0: 0.0,\n",
       " 1657324800.0: 0.0,\n",
       " 1657325700.0: 0.0,\n",
       " 1657326600.0: 0.0,\n",
       " 1657327500.0: 0.0,\n",
       " 1657328400.0: 0.0,\n",
       " 1657329300.0: 0.0,\n",
       " 1657330200.0: 0.0,\n",
       " 1657331100.0: 0.0,\n",
       " 1657332000.0: 0.0,\n",
       " 1657332900.0: 0.0,\n",
       " 1657333800.0: 0.0,\n",
       " 1657334700.0: 0.0,\n",
       " 1657335600.0: 0.0,\n",
       " 1657336500.0: 0.0,\n",
       " 1657337400.0: 0.0,\n",
       " 1657338300.0: 0.0,\n",
       " 1657339200.0: 2.0,\n",
       " 1657340100.0: 2.0,\n",
       " 1657341000.0: 2.0,\n",
       " 1657341900.0: 2.0,\n",
       " 1657342800.0: 65.0,\n",
       " 1657343700.0: 65.0,\n",
       " 1657344600.0: 65.0,\n",
       " 1657345500.0: 65.0,\n",
       " 1657346400.0: 149.0,\n",
       " 1657347300.0: 149.0,\n",
       " 1657348200.0: 149.0,\n",
       " 1657349100.0: 149.0,\n",
       " 1657350000.0: 295.0,\n",
       " 1657350900.0: 295.0,\n",
       " 1657351800.0: 295.0,\n",
       " 1657352700.0: 295.0,\n",
       " 1657353600.0: 525.0,\n",
       " 1657354500.0: 525.0,\n",
       " 1657355400.0: 525.0,\n",
       " 1657356300.0: 525.0,\n",
       " 1657357200.0: 436.0,\n",
       " 1657358100.0: 436.0,\n",
       " 1657359000.0: 436.0,\n",
       " 1657359900.0: 436.0,\n",
       " 1657360800.0: 262.0,\n",
       " 1657361700.0: 262.0,\n",
       " 1657362600.0: 262.0,\n",
       " 1657363500.0: 262.0,\n",
       " 1657364400.0: 222.0,\n",
       " 1657365300.0: 222.0,\n",
       " 1657366200.0: 222.0,\n",
       " 1657367100.0: 222.0,\n",
       " 1657368000.0: 224.0,\n",
       " 1657368900.0: 224.0,\n",
       " 1657369800.0: 224.0,\n",
       " 1657370700.0: 224.0,\n",
       " 1657371600.0: 123.0,\n",
       " 1657372500.0: 123.0,\n",
       " 1657373400.0: 123.0,\n",
       " 1657374300.0: 123.0,\n",
       " 1657375200.0: 551.0,\n",
       " 1657376100.0: 551.0,\n",
       " 1657377000.0: 551.0,\n",
       " 1657377900.0: 551.0,\n",
       " 1657378800.0: 362.0,\n",
       " 1657379700.0: 362.0,\n",
       " 1657380600.0: 362.0,\n",
       " 1657381500.0: 362.0,\n",
       " 1657382400.0: 75.0,\n",
       " 1657383300.0: 75.0,\n",
       " 1657384200.0: 75.0,\n",
       " 1657385100.0: 75.0,\n",
       " 1657386000.0: 309.0,\n",
       " 1657386900.0: 309.0,\n",
       " 1657387800.0: 309.0,\n",
       " 1657388700.0: 309.0,\n",
       " 1657389600.0: 142.0,\n",
       " 1657390500.0: 142.0,\n",
       " 1657391400.0: 142.0,\n",
       " 1657392300.0: 142.0,\n",
       " 1657393200.0: 51.0,\n",
       " 1657394100.0: 51.0,\n",
       " 1657395000.0: 51.0,\n",
       " 1657395900.0: 51.0,\n",
       " 1657396800.0: 0.0,\n",
       " 1657397700.0: 0.0,\n",
       " 1657398600.0: 0.0,\n",
       " 1657399500.0: 0.0,\n",
       " 1657400400.0: 0.0,\n",
       " 1657401300.0: 0.0,\n",
       " 1657402200.0: 0.0,\n",
       " 1657403100.0: 0.0,\n",
       " 1657404000.0: 0.0,\n",
       " 1657404900.0: 0.0,\n",
       " 1657405800.0: 0.0,\n",
       " 1657406700.0: 0.0,\n",
       " 1657407600.0: 0.0,\n",
       " 1657408500.0: 0.0,\n",
       " 1657409400.0: 0.0,\n",
       " 1657410300.0: 0.0,\n",
       " 1657411200.0: 0.0,\n",
       " 1657412100.0: 0.0,\n",
       " 1657413000.0: 0.0,\n",
       " 1657413900.0: 0.0,\n",
       " 1657414800.0: 0.0,\n",
       " 1657415700.0: 0.0,\n",
       " 1657416600.0: 0.0,\n",
       " 1657417500.0: 0.0,\n",
       " 1657418400.0: 0.0,\n",
       " 1657419300.0: 0.0,\n",
       " 1657420200.0: 0.0,\n",
       " 1657421100.0: 0.0,\n",
       " 1657422000.0: 0.0,\n",
       " 1657422900.0: 0.0,\n",
       " 1657423800.0: 0.0,\n",
       " 1657424700.0: 0.0,\n",
       " 1657425600.0: 20.0,\n",
       " 1657426500.0: 20.0,\n",
       " 1657427400.0: 20.0,\n",
       " 1657428300.0: 20.0,\n",
       " 1657429200.0: 30.0,\n",
       " 1657430100.0: 30.0,\n",
       " 1657431000.0: 30.0,\n",
       " 1657431900.0: 30.0,\n",
       " 1657432800.0: 155.0,\n",
       " 1657433700.0: 155.0,\n",
       " 1657434600.0: 155.0,\n",
       " 1657435500.0: 155.0,\n",
       " 1657436400.0: 97.0,\n",
       " 1657437300.0: 97.0,\n",
       " 1657438200.0: 97.0,\n",
       " 1657439100.0: 97.0,\n",
       " 1657440000.0: 446.0,\n",
       " 1657440900.0: 446.0,\n",
       " 1657441800.0: 446.0,\n",
       " 1657442700.0: 446.0,\n",
       " 1657443600.0: 439.0,\n",
       " 1657444500.0: 439.0,\n",
       " 1657445400.0: 439.0,\n",
       " 1657446300.0: 439.0,\n",
       " 1657447200.0: 462.0,\n",
       " 1657448100.0: 462.0,\n",
       " 1657449000.0: 462.0,\n",
       " 1657449900.0: 462.0,\n",
       " 1657450800.0: 519.0,\n",
       " 1657451700.0: 519.0,\n",
       " 1657452600.0: 519.0,\n",
       " 1657453500.0: 519.0,\n",
       " 1657454400.0: 247.0,\n",
       " 1657455300.0: 247.0,\n",
       " 1657456200.0: 247.0,\n",
       " 1657457100.0: 247.0,\n",
       " 1657458000.0: 223.0,\n",
       " 1657458900.0: 223.0,\n",
       " 1657459800.0: 223.0,\n",
       " 1657460700.0: 223.0,\n",
       " 1657461600.0: 153.0,\n",
       " 1657462500.0: 153.0,\n",
       " 1657463400.0: 153.0,\n",
       " 1657464300.0: 153.0,\n",
       " 1657465200.0: 268.0,\n",
       " 1657466100.0: 268.0,\n",
       " 1657467000.0: 268.0,\n",
       " 1657467900.0: 268.0,\n",
       " 1657468800.0: 293.0,\n",
       " 1657469700.0: 293.0,\n",
       " 1657470600.0: 293.0,\n",
       " 1657471500.0: 293.0,\n",
       " 1657472400.0: 161.0,\n",
       " 1657473300.0: 161.0,\n",
       " 1657474200.0: 161.0,\n",
       " 1657475100.0: 161.0,\n",
       " 1657476000.0: 46.0,\n",
       " 1657476900.0: 46.0,\n",
       " 1657477800.0: 46.0,\n",
       " 1657478700.0: 46.0,\n",
       " 1657479600.0: 5.0,\n",
       " 1657480500.0: 5.0,\n",
       " 1657481400.0: 5.0,\n",
       " 1657482300.0: 5.0,\n",
       " 1657483200.0: 0.0,\n",
       " 1657484100.0: 0.0,\n",
       " 1657485000.0: 0.0,\n",
       " 1657485900.0: 0.0,\n",
       " 1657486800.0: 0.0,\n",
       " 1657487700.0: 0.0,\n",
       " 1657488600.0: 0.0,\n",
       " 1657489500.0: 0.0,\n",
       " 1657490400.0: 0.0,\n",
       " 1657491300.0: 0.0,\n",
       " 1657492200.0: 0.0,\n",
       " 1657493100.0: 0.0,\n",
       " 1657494000.0: 0.0,\n",
       " 1657494900.0: 0.0,\n",
       " 1657495800.0: 0.0,\n",
       " 1657496700.0: 0.0,\n",
       " 1657497600.0: 0.0,\n",
       " 1657498500.0: 0.0,\n",
       " 1657499400.0: 0.0,\n",
       " 1657500300.0: 0.0,\n",
       " 1657501200.0: 0.0,\n",
       " 1657502100.0: 0.0,\n",
       " 1657503000.0: 0.0,\n",
       " 1657503900.0: 0.0,\n",
       " 1657504800.0: 0.0,\n",
       " 1657505700.0: 0.0,\n",
       " 1657506600.0: 0.0,\n",
       " 1657507500.0: 0.0,\n",
       " 1657508400.0: 0.0,\n",
       " 1657509300.0: 0.0,\n",
       " 1657510200.0: 0.0,\n",
       " 1657511100.0: 0.0,\n",
       " 1657512000.0: 2.0,\n",
       " 1657512900.0: 2.0,\n",
       " 1657513800.0: 2.0,\n",
       " 1657514700.0: 2.0,\n",
       " 1657515600.0: 12.0,\n",
       " 1657516500.0: 12.0,\n",
       " 1657517400.0: 12.0,\n",
       " 1657518300.0: 12.0,\n",
       " 1657519200.0: 26.0,\n",
       " 1657520100.0: 26.0,\n",
       " 1657521000.0: 26.0,\n",
       " 1657521900.0: 26.0,\n",
       " 1657522800.0: 73.0,\n",
       " 1657523700.0: 73.0,\n",
       " 1657524600.0: 73.0,\n",
       " 1657525500.0: 73.0,\n",
       " 1657526400.0: 78.0,\n",
       " 1657527300.0: 78.0,\n",
       " 1657528200.0: 78.0,\n",
       " 1657529100.0: 78.0,\n",
       " 1657530000.0: 419.0,\n",
       " 1657530900.0: 419.0,\n",
       " 1657531800.0: 419.0,\n",
       " 1657532700.0: 419.0,\n",
       " ...}"
      ]
     },
     "execution_count": 159,
     "metadata": {},
     "output_type": "execute_result"
    }
   ],
   "source": [
    "d['total_horizontal_irradiation']"
   ]
  },
  {
   "cell_type": "code",
   "execution_count": 163,
   "id": "d445c8e0",
   "metadata": {},
   "outputs": [
    {
     "ename": "TypeError",
     "evalue": "slice indices must be integers or None or have an __index__ method",
     "output_type": "error",
     "traceback": [
      "\u001b[0;31m---------------------------------------------------------------------------\u001b[0m",
      "\u001b[0;31mTypeError\u001b[0m                                 Traceback (most recent call last)",
      "Cell \u001b[0;32mIn[163], line 2\u001b[0m\n\u001b[1;32m      1\u001b[0m \u001b[38;5;66;03m# + tz.utcoffset(datetime.datetime.fromtimestamp(t))\u001b[39;00m\n\u001b[0;32m----> 2\u001b[0m \u001b[43mpd\u001b[49m\u001b[38;5;241;43m.\u001b[39;49m\u001b[43mDataFrame\u001b[49m\u001b[43m(\u001b[49m\u001b[43mdata\u001b[49m\u001b[38;5;241;43m=\u001b[39;49m\u001b[43md\u001b[49m\u001b[43m[\u001b[49m\u001b[38;5;124;43m'\u001b[39;49m\u001b[38;5;124;43mtotal_horizontal_irradiation\u001b[39;49m\u001b[38;5;124;43m'\u001b[39;49m\u001b[43m]\u001b[49m\u001b[38;5;241;43m.\u001b[39;49m\u001b[43mvalues\u001b[49m\u001b[43m(\u001b[49m\u001b[43m)\u001b[49m\u001b[43m,\u001b[49m\n\u001b[1;32m      3\u001b[0m \u001b[43m             \u001b[49m\u001b[43mindex\u001b[49m\u001b[38;5;241;43m=\u001b[39;49m\u001b[43m[\u001b[49m\u001b[43mdatetime\u001b[49m\u001b[38;5;241;43m.\u001b[39;49m\u001b[43mdatetime\u001b[49m\u001b[38;5;241;43m.\u001b[39;49m\u001b[43mfromtimestamp\u001b[49m\u001b[43m(\u001b[49m\u001b[43mt\u001b[49m\u001b[43m)\u001b[49m\u001b[43m \u001b[49m\u001b[38;5;28;43;01mfor\u001b[39;49;00m\u001b[43m \u001b[49m\u001b[43mt\u001b[49m\u001b[43m \u001b[49m\u001b[38;5;129;43;01min\u001b[39;49;00m\u001b[43m \u001b[49m\u001b[43md\u001b[49m\u001b[43m[\u001b[49m\u001b[38;5;124;43m'\u001b[39;49m\u001b[38;5;124;43mtotal_horizontal_irradiation\u001b[39;49m\u001b[38;5;124;43m'\u001b[39;49m\u001b[43m]\u001b[49m\u001b[38;5;241;43m.\u001b[39;49m\u001b[43mkeys\u001b[49m\u001b[43m(\u001b[49m\u001b[43m)\u001b[49m\u001b[43m]\u001b[49m\u001b[43m)\u001b[49m\u001b[38;5;241;43m.\u001b[39;49m\u001b[43mshift\u001b[49m\u001b[43m(\u001b[49m\u001b[38;5;241;43m8.0\u001b[39;49m\u001b[43m)\u001b[49m\u001b[38;5;241m.\u001b[39mfillna(method\u001b[38;5;241m=\u001b[39m\u001b[38;5;124m'\u001b[39m\u001b[38;5;124mbfill\u001b[39m\u001b[38;5;124m'\u001b[39m)\u001b[38;5;241m.\u001b[39mto_dict()\n",
      "File \u001b[0;32m~/anaconda3/envs/OpenMotics/lib/python3.8/site-packages/pandas/core/frame.py:5855\u001b[0m, in \u001b[0;36mDataFrame.shift\u001b[0;34m(self, periods, freq, axis, fill_value)\u001b[0m\n\u001b[1;32m   5852\u001b[0m         res_df \u001b[38;5;241m=\u001b[39m \u001b[38;5;28mself\u001b[39m\u001b[38;5;241m.\u001b[39m_constructor(mgr)\n\u001b[1;32m   5853\u001b[0m         \u001b[38;5;28;01mreturn\u001b[39;00m res_df\u001b[38;5;241m.\u001b[39m__finalize__(\u001b[38;5;28mself\u001b[39m, method\u001b[38;5;241m=\u001b[39m\u001b[38;5;124m\"\u001b[39m\u001b[38;5;124mshift\u001b[39m\u001b[38;5;124m\"\u001b[39m)\n\u001b[0;32m-> 5855\u001b[0m \u001b[38;5;28;01mreturn\u001b[39;00m \u001b[38;5;28;43msuper\u001b[39;49m\u001b[43m(\u001b[49m\u001b[43m)\u001b[49m\u001b[38;5;241;43m.\u001b[39;49m\u001b[43mshift\u001b[49m\u001b[43m(\u001b[49m\n\u001b[1;32m   5856\u001b[0m \u001b[43m    \u001b[49m\u001b[43mperiods\u001b[49m\u001b[38;5;241;43m=\u001b[39;49m\u001b[43mperiods\u001b[49m\u001b[43m,\u001b[49m\u001b[43m \u001b[49m\u001b[43mfreq\u001b[49m\u001b[38;5;241;43m=\u001b[39;49m\u001b[43mfreq\u001b[49m\u001b[43m,\u001b[49m\u001b[43m \u001b[49m\u001b[43maxis\u001b[49m\u001b[38;5;241;43m=\u001b[39;49m\u001b[43maxis\u001b[49m\u001b[43m,\u001b[49m\u001b[43m \u001b[49m\u001b[43mfill_value\u001b[49m\u001b[38;5;241;43m=\u001b[39;49m\u001b[43mfill_value\u001b[49m\n\u001b[1;32m   5857\u001b[0m \u001b[43m\u001b[49m\u001b[43m)\u001b[49m\n",
      "File \u001b[0;32m~/anaconda3/envs/OpenMotics/lib/python3.8/site-packages/pandas/core/generic.py:10172\u001b[0m, in \u001b[0;36mNDFrame.shift\u001b[0;34m(self, periods, freq, axis, fill_value)\u001b[0m\n\u001b[1;32m  10169\u001b[0m \u001b[38;5;28;01mif\u001b[39;00m freq \u001b[38;5;129;01mis\u001b[39;00m \u001b[38;5;28;01mNone\u001b[39;00m:\n\u001b[1;32m  10170\u001b[0m     \u001b[38;5;66;03m# when freq is None, data is shifted, index is not\u001b[39;00m\n\u001b[1;32m  10171\u001b[0m     axis \u001b[38;5;241m=\u001b[39m \u001b[38;5;28mself\u001b[39m\u001b[38;5;241m.\u001b[39m_get_axis_number(axis)\n\u001b[0;32m> 10172\u001b[0m     new_data \u001b[38;5;241m=\u001b[39m \u001b[38;5;28;43mself\u001b[39;49m\u001b[38;5;241;43m.\u001b[39;49m\u001b[43m_mgr\u001b[49m\u001b[38;5;241;43m.\u001b[39;49m\u001b[43mshift\u001b[49m\u001b[43m(\u001b[49m\n\u001b[1;32m  10173\u001b[0m \u001b[43m        \u001b[49m\u001b[43mperiods\u001b[49m\u001b[38;5;241;43m=\u001b[39;49m\u001b[43mperiods\u001b[49m\u001b[43m,\u001b[49m\u001b[43m \u001b[49m\u001b[43maxis\u001b[49m\u001b[38;5;241;43m=\u001b[39;49m\u001b[43maxis\u001b[49m\u001b[43m,\u001b[49m\u001b[43m \u001b[49m\u001b[43mfill_value\u001b[49m\u001b[38;5;241;43m=\u001b[39;49m\u001b[43mfill_value\u001b[49m\n\u001b[1;32m  10174\u001b[0m \u001b[43m    \u001b[49m\u001b[43m)\u001b[49m\n\u001b[1;32m  10175\u001b[0m     \u001b[38;5;28;01mreturn\u001b[39;00m \u001b[38;5;28mself\u001b[39m\u001b[38;5;241m.\u001b[39m_constructor(new_data)\u001b[38;5;241m.\u001b[39m__finalize__(\u001b[38;5;28mself\u001b[39m, method\u001b[38;5;241m=\u001b[39m\u001b[38;5;124m\"\u001b[39m\u001b[38;5;124mshift\u001b[39m\u001b[38;5;124m\"\u001b[39m)\n\u001b[1;32m  10177\u001b[0m \u001b[38;5;66;03m# when freq is given, index is shifted, data is not\u001b[39;00m\n",
      "File \u001b[0;32m~/anaconda3/envs/OpenMotics/lib/python3.8/site-packages/pandas/core/internals/managers.py:429\u001b[0m, in \u001b[0;36mBaseBlockManager.shift\u001b[0;34m(self, periods, axis, fill_value)\u001b[0m\n\u001b[1;32m    426\u001b[0m \u001b[38;5;28;01mif\u001b[39;00m fill_value \u001b[38;5;129;01mis\u001b[39;00m lib\u001b[38;5;241m.\u001b[39mno_default:\n\u001b[1;32m    427\u001b[0m     fill_value \u001b[38;5;241m=\u001b[39m \u001b[38;5;28;01mNone\u001b[39;00m\n\u001b[0;32m--> 429\u001b[0m \u001b[38;5;28;01mreturn\u001b[39;00m \u001b[38;5;28;43mself\u001b[39;49m\u001b[38;5;241;43m.\u001b[39;49m\u001b[43mapply\u001b[49m\u001b[43m(\u001b[49m\u001b[38;5;124;43m\"\u001b[39;49m\u001b[38;5;124;43mshift\u001b[39;49m\u001b[38;5;124;43m\"\u001b[39;49m\u001b[43m,\u001b[49m\u001b[43m \u001b[49m\u001b[43mperiods\u001b[49m\u001b[38;5;241;43m=\u001b[39;49m\u001b[43mperiods\u001b[49m\u001b[43m,\u001b[49m\u001b[43m \u001b[49m\u001b[43maxis\u001b[49m\u001b[38;5;241;43m=\u001b[39;49m\u001b[43maxis\u001b[49m\u001b[43m,\u001b[49m\u001b[43m \u001b[49m\u001b[43mfill_value\u001b[49m\u001b[38;5;241;43m=\u001b[39;49m\u001b[43mfill_value\u001b[49m\u001b[43m)\u001b[49m\n",
      "File \u001b[0;32m~/anaconda3/envs/OpenMotics/lib/python3.8/site-packages/pandas/core/internals/managers.py:352\u001b[0m, in \u001b[0;36mBaseBlockManager.apply\u001b[0;34m(self, f, align_keys, ignore_failures, **kwargs)\u001b[0m\n\u001b[1;32m    350\u001b[0m         applied \u001b[38;5;241m=\u001b[39m b\u001b[38;5;241m.\u001b[39mapply(f, \u001b[38;5;241m*\u001b[39m\u001b[38;5;241m*\u001b[39mkwargs)\n\u001b[1;32m    351\u001b[0m     \u001b[38;5;28;01melse\u001b[39;00m:\n\u001b[0;32m--> 352\u001b[0m         applied \u001b[38;5;241m=\u001b[39m \u001b[38;5;28;43mgetattr\u001b[39;49m\u001b[43m(\u001b[49m\u001b[43mb\u001b[49m\u001b[43m,\u001b[49m\u001b[43m \u001b[49m\u001b[43mf\u001b[49m\u001b[43m)\u001b[49m\u001b[43m(\u001b[49m\u001b[38;5;241;43m*\u001b[39;49m\u001b[38;5;241;43m*\u001b[39;49m\u001b[43mkwargs\u001b[49m\u001b[43m)\u001b[49m\n\u001b[1;32m    353\u001b[0m \u001b[38;5;28;01mexcept\u001b[39;00m (\u001b[38;5;167;01mTypeError\u001b[39;00m, \u001b[38;5;167;01mNotImplementedError\u001b[39;00m):\n\u001b[1;32m    354\u001b[0m     \u001b[38;5;28;01mif\u001b[39;00m \u001b[38;5;129;01mnot\u001b[39;00m ignore_failures:\n",
      "File \u001b[0;32m~/anaconda3/envs/OpenMotics/lib/python3.8/site-packages/pandas/core/internals/blocks.py:1307\u001b[0m, in \u001b[0;36mBlock.shift\u001b[0;34m(self, periods, axis, fill_value)\u001b[0m\n\u001b[1;32m   1305\u001b[0m \u001b[38;5;28;01melse\u001b[39;00m:\n\u001b[1;32m   1306\u001b[0m     values \u001b[38;5;241m=\u001b[39m cast(np\u001b[38;5;241m.\u001b[39mndarray, \u001b[38;5;28mself\u001b[39m\u001b[38;5;241m.\u001b[39mvalues)\n\u001b[0;32m-> 1307\u001b[0m     new_values \u001b[38;5;241m=\u001b[39m \u001b[43mshift\u001b[49m\u001b[43m(\u001b[49m\u001b[43mvalues\u001b[49m\u001b[43m,\u001b[49m\u001b[43m \u001b[49m\u001b[43mperiods\u001b[49m\u001b[43m,\u001b[49m\u001b[43m \u001b[49m\u001b[43maxis\u001b[49m\u001b[43m,\u001b[49m\u001b[43m \u001b[49m\u001b[43mcasted\u001b[49m\u001b[43m)\u001b[49m\n\u001b[1;32m   1308\u001b[0m     \u001b[38;5;28;01mreturn\u001b[39;00m [\u001b[38;5;28mself\u001b[39m\u001b[38;5;241m.\u001b[39mmake_block(new_values)]\n",
      "File \u001b[0;32m~/anaconda3/envs/OpenMotics/lib/python3.8/site-packages/pandas/core/array_algos/transforms.py:34\u001b[0m, in \u001b[0;36mshift\u001b[0;34m(values, periods, axis, fill_value)\u001b[0m\n\u001b[1;32m     32\u001b[0m \u001b[38;5;28;01melse\u001b[39;00m:\n\u001b[1;32m     33\u001b[0m     axis_indexer[axis] \u001b[38;5;241m=\u001b[39m \u001b[38;5;28mslice\u001b[39m(periods, \u001b[38;5;28;01mNone\u001b[39;00m)\n\u001b[0;32m---> 34\u001b[0m \u001b[43mnew_values\u001b[49m\u001b[43m[\u001b[49m\u001b[38;5;28;43mtuple\u001b[39;49m\u001b[43m(\u001b[49m\u001b[43maxis_indexer\u001b[49m\u001b[43m)\u001b[49m\u001b[43m]\u001b[49m \u001b[38;5;241m=\u001b[39m fill_value\n\u001b[1;32m     36\u001b[0m \u001b[38;5;66;03m# restore original order\u001b[39;00m\n\u001b[1;32m     37\u001b[0m \u001b[38;5;28;01mif\u001b[39;00m f_ordered:\n",
      "\u001b[0;31mTypeError\u001b[0m: slice indices must be integers or None or have an __index__ method"
     ]
    }
   ],
   "source": [
    "# + tz.utcoffset(datetime.datetime.fromtimestamp(t))\n",
    "pd.DataFrame(data=d['total_horizontal_irradiation'].values(),\n",
    "             index=[datetime.datetime.fromtimestamp(t) for t in d['total_horizontal_irradiation'].keys()]).shift(8).fillna(method='bfill').to_dict()"
   ]
  },
  {
   "cell_type": "code",
   "execution_count": 155,
   "id": "d6071848",
   "metadata": {},
   "outputs": [
    {
     "data": {
      "text/plain": [
       "datetime.datetime(2022, 7, 1, 2, 0)"
      ]
     },
     "execution_count": 155,
     "metadata": {},
     "output_type": "execute_result"
    }
   ],
   "source": [
    "datetime.datetime.fromtimestamp(1656633600.0)"
   ]
  },
  {
   "cell_type": "code",
   "execution_count": 119,
   "id": "d4058b65",
   "metadata": {},
   "outputs": [
    {
     "data": {
      "text/plain": [
       "1640991600.0"
      ]
     },
     "execution_count": 119,
     "metadata": {},
     "output_type": "execute_result"
    }
   ],
   "source": [
    "datetime.datetime(2022,1,1).timestamp()"
   ]
  },
  {
   "cell_type": "code",
   "execution_count": 121,
   "id": "2b08b6cd",
   "metadata": {},
   "outputs": [
    {
     "data": {
      "text/plain": [
       "1640991600.0"
      ]
     },
     "execution_count": 121,
     "metadata": {},
     "output_type": "execute_result"
    }
   ],
   "source": [
    "tz.localize(datetime.datetime(2022,1,1)).timestamp()"
   ]
  },
  {
   "cell_type": "code",
   "execution_count": null,
   "id": "3876228f",
   "metadata": {},
   "outputs": [],
   "source": []
  }
 ],
 "metadata": {
  "kernelspec": {
   "display_name": "OpenMotics",
   "language": "python",
   "name": "openmotics"
  },
  "language_info": {
   "codemirror_mode": {
    "name": "ipython",
    "version": 3
   },
   "file_extension": ".py",
   "mimetype": "text/x-python",
   "name": "python",
   "nbconvert_exporter": "python",
   "pygments_lexer": "ipython3",
   "version": "3.8.16"
  },
  "toc": {
   "base_numbering": 1,
   "nav_menu": {},
   "number_sections": true,
   "sideBar": true,
   "skip_h1_title": false,
   "title_cell": "Table of Contents",
   "title_sidebar": "Contents",
   "toc_cell": false,
   "toc_position": {},
   "toc_section_display": true,
   "toc_window_display": true
  }
 },
 "nbformat": 4,
 "nbformat_minor": 5
}
